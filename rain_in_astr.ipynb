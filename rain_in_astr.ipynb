{
  "nbformat": 4,
  "nbformat_minor": 0,
  "metadata": {
    "colab": {
      "name": "rain_in_astr.ipynb",
      "provenance": [],
      "collapsed_sections": [],
      "include_colab_link": true
    },
    "kernelspec": {
      "display_name": "Python 3",
      "name": "python3"
    },
    "language_info": {
      "name": "python"
    }
  },
  "cells": [
    {
      "cell_type": "markdown",
      "metadata": {
        "id": "view-in-github",
        "colab_type": "text"
      },
      "source": [
        "<a href=\"https://colab.research.google.com/github/bhrshabani/Loan-prediction/blob/main/rain_in_astr.ipynb\" target=\"_parent\"><img src=\"https://colab.research.google.com/assets/colab-badge.svg\" alt=\"Open In Colab\"/></a>"
      ]
    },
    {
      "cell_type": "markdown",
      "metadata": {
        "id": "GW_7WnQuW-Fj"
      },
      "source": [
        "##import libraries"
      ]
    },
    {
      "cell_type": "code",
      "metadata": {
        "colab": {
          "base_uri": "https://localhost:8080/"
        },
        "id": "eJiDUvKsPm4e",
        "outputId": "3b3cd67e-adc7-4ae0-8934-7cc9ee99be45"
      },
      "source": [
        "pip install django"
      ],
      "execution_count": 1,
      "outputs": [
        {
          "output_type": "stream",
          "name": "stdout",
          "text": [
            "Collecting django\n",
            "  Downloading Django-3.2.9-py3-none-any.whl (7.9 MB)\n",
            "\u001b[K     |████████████████████████████████| 7.9 MB 5.1 MB/s \n",
            "\u001b[?25hCollecting asgiref<4,>=3.3.2\n",
            "  Downloading asgiref-3.4.1-py3-none-any.whl (25 kB)\n",
            "Requirement already satisfied: pytz in /usr/local/lib/python3.7/dist-packages (from django) (2018.9)\n",
            "Requirement already satisfied: sqlparse>=0.2.2 in /usr/local/lib/python3.7/dist-packages (from django) (0.4.2)\n",
            "Requirement already satisfied: typing-extensions in /usr/local/lib/python3.7/dist-packages (from asgiref<4,>=3.3.2->django) (3.10.0.2)\n",
            "Installing collected packages: asgiref, django\n",
            "Successfully installed asgiref-3.4.1 django-3.2.9\n"
          ]
        }
      ]
    },
    {
      "cell_type": "code",
      "metadata": {
        "id": "_yiFtcLhW2Hw"
      },
      "source": [
        "\n",
        "# import libraries\n",
        "import pandas as pd\n",
        "import numpy as np\n",
        "from google.colab import files\n",
        "\n",
        "import seaborn as sns\n",
        "import matplotlib.pyplot as plt\n",
        "from matplotlib.pyplot import figure\n",
        "from matplotlib import pyplot\n",
        "import plotly\n",
        "sns.set_style('white')\n",
        "%matplotlib inline\n",
        "\n",
        "from sklearn import preprocessing\n",
        "from sklearn.preprocessing import StandardScaler\n",
        "from sklearn.model_selection import train_test_split\n",
        "from sklearn.model_selection import KFold\n",
        "\n",
        "from sklearn import metrics\n",
        "from sklearn.metrics import accuracy_score\n",
        "from sklearn.metrics import classification_report\n",
        "from sklearn.metrics import confusion_matrix\n",
        "from sklearn.metrics import roc_auc_score\n",
        "from sklearn.metrics import f1_score\n",
        "from sklearn.model_selection import cross_val_score\n",
        "\n",
        "from sklearn.feature_selection import mutual_info_classif\n",
        "from sklearn.feature_selection import SelectKBest\n",
        "\n",
        "from sklearn.linear_model import LogisticRegression\n",
        "from sklearn.ensemble import RandomForestClassifier\n",
        "from sklearn.model_selection import RandomizedSearchCV\n",
        "\n",
        "from sklearn.utils import resample\n",
        "from imblearn.under_sampling import RandomUnderSampler\n",
        "from imblearn.over_sampling import RandomOverSampler\n",
        "from imblearn.over_sampling import SMOTE\n",
        "from imblearn.over_sampling import BorderlineSMOTE\n",
        "from imblearn.pipeline import Pipeline \n",
        "\n",
        "from collections import Counter \n",
        "\n",
        "import warnings\n",
        "warnings.filterwarnings('ignore')\n",
        "pd.set_option('max_colwidth', 1000)\n",
        "pd.set_option('max_rows',40)\n",
        "pd.set_option('max_columns',1000)"
      ],
      "execution_count": 77,
      "outputs": []
    },
    {
      "cell_type": "markdown",
      "metadata": {
        "id": "9AgHdc3aXMPS"
      },
      "source": [
        "##Load data"
      ]
    },
    {
      "cell_type": "code",
      "metadata": {
        "colab": {
          "resources": {
            "http://localhost:8080/nbextensions/google.colab/files.js": {
              "data": "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",
              "ok": true,
              "headers": [
                [
                  "content-type",
                  "application/javascript"
                ]
              ],
              "status": 200,
              "status_text": ""
            }
          },
          "base_uri": "https://localhost:8080/",
          "height": 344
        },
        "id": "tt3NcgLlXQBx",
        "outputId": "427f851d-a490-443e-b157-9f1aadce9c06"
      },
      "source": [
        "#load data\n",
        "uploaded = files.upload()\n",
        "#store the data\n",
        "dataset = pd.read_csv(\"weatherAUS.csv\")\n",
        "dataset.head()"
      ],
      "execution_count": 3,
      "outputs": [
        {
          "output_type": "display_data",
          "data": {
            "text/html": [
              "\n",
              "     <input type=\"file\" id=\"files-986c8dbe-2230-46a4-b8f2-e05a0104cfde\" name=\"files[]\" multiple disabled\n",
              "        style=\"border:none\" />\n",
              "     <output id=\"result-986c8dbe-2230-46a4-b8f2-e05a0104cfde\">\n",
              "      Upload widget is only available when the cell has been executed in the\n",
              "      current browser session. Please rerun this cell to enable.\n",
              "      </output>\n",
              "      <script src=\"/nbextensions/google.colab/files.js\"></script> "
            ],
            "text/plain": [
              "<IPython.core.display.HTML object>"
            ]
          },
          "metadata": {}
        },
        {
          "output_type": "stream",
          "name": "stdout",
          "text": [
            "Saving weatherAUS.csv to weatherAUS.csv\n"
          ]
        },
        {
          "output_type": "execute_result",
          "data": {
            "text/html": [
              "<div>\n",
              "<style scoped>\n",
              "    .dataframe tbody tr th:only-of-type {\n",
              "        vertical-align: middle;\n",
              "    }\n",
              "\n",
              "    .dataframe tbody tr th {\n",
              "        vertical-align: top;\n",
              "    }\n",
              "\n",
              "    .dataframe thead th {\n",
              "        text-align: right;\n",
              "    }\n",
              "</style>\n",
              "<table border=\"1\" class=\"dataframe\">\n",
              "  <thead>\n",
              "    <tr style=\"text-align: right;\">\n",
              "      <th></th>\n",
              "      <th>Date</th>\n",
              "      <th>Location</th>\n",
              "      <th>MinTemp</th>\n",
              "      <th>MaxTemp</th>\n",
              "      <th>Rainfall</th>\n",
              "      <th>Evaporation</th>\n",
              "      <th>Sunshine</th>\n",
              "      <th>WindGustDir</th>\n",
              "      <th>WindGustSpeed</th>\n",
              "      <th>WindDir9am</th>\n",
              "      <th>WindDir3pm</th>\n",
              "      <th>WindSpeed9am</th>\n",
              "      <th>WindSpeed3pm</th>\n",
              "      <th>Humidity9am</th>\n",
              "      <th>Humidity3pm</th>\n",
              "      <th>Pressure9am</th>\n",
              "      <th>Pressure3pm</th>\n",
              "      <th>Cloud9am</th>\n",
              "      <th>Cloud3pm</th>\n",
              "      <th>Temp9am</th>\n",
              "      <th>Temp3pm</th>\n",
              "      <th>RainToday</th>\n",
              "      <th>RainTomorrow</th>\n",
              "    </tr>\n",
              "  </thead>\n",
              "  <tbody>\n",
              "    <tr>\n",
              "      <th>0</th>\n",
              "      <td>2008-12-01</td>\n",
              "      <td>Albury</td>\n",
              "      <td>13.4</td>\n",
              "      <td>22.9</td>\n",
              "      <td>0.6</td>\n",
              "      <td>NaN</td>\n",
              "      <td>NaN</td>\n",
              "      <td>W</td>\n",
              "      <td>44.0</td>\n",
              "      <td>W</td>\n",
              "      <td>WNW</td>\n",
              "      <td>20.0</td>\n",
              "      <td>24.0</td>\n",
              "      <td>71.0</td>\n",
              "      <td>22.0</td>\n",
              "      <td>1007.7</td>\n",
              "      <td>1007.1</td>\n",
              "      <td>8.0</td>\n",
              "      <td>NaN</td>\n",
              "      <td>16.9</td>\n",
              "      <td>21.8</td>\n",
              "      <td>No</td>\n",
              "      <td>No</td>\n",
              "    </tr>\n",
              "    <tr>\n",
              "      <th>1</th>\n",
              "      <td>2008-12-02</td>\n",
              "      <td>Albury</td>\n",
              "      <td>7.4</td>\n",
              "      <td>25.1</td>\n",
              "      <td>0.0</td>\n",
              "      <td>NaN</td>\n",
              "      <td>NaN</td>\n",
              "      <td>WNW</td>\n",
              "      <td>44.0</td>\n",
              "      <td>NNW</td>\n",
              "      <td>WSW</td>\n",
              "      <td>4.0</td>\n",
              "      <td>22.0</td>\n",
              "      <td>44.0</td>\n",
              "      <td>25.0</td>\n",
              "      <td>1010.6</td>\n",
              "      <td>1007.8</td>\n",
              "      <td>NaN</td>\n",
              "      <td>NaN</td>\n",
              "      <td>17.2</td>\n",
              "      <td>24.3</td>\n",
              "      <td>No</td>\n",
              "      <td>No</td>\n",
              "    </tr>\n",
              "    <tr>\n",
              "      <th>2</th>\n",
              "      <td>2008-12-03</td>\n",
              "      <td>Albury</td>\n",
              "      <td>12.9</td>\n",
              "      <td>25.7</td>\n",
              "      <td>0.0</td>\n",
              "      <td>NaN</td>\n",
              "      <td>NaN</td>\n",
              "      <td>WSW</td>\n",
              "      <td>46.0</td>\n",
              "      <td>W</td>\n",
              "      <td>WSW</td>\n",
              "      <td>19.0</td>\n",
              "      <td>26.0</td>\n",
              "      <td>38.0</td>\n",
              "      <td>30.0</td>\n",
              "      <td>1007.6</td>\n",
              "      <td>1008.7</td>\n",
              "      <td>NaN</td>\n",
              "      <td>2.0</td>\n",
              "      <td>21.0</td>\n",
              "      <td>23.2</td>\n",
              "      <td>No</td>\n",
              "      <td>No</td>\n",
              "    </tr>\n",
              "    <tr>\n",
              "      <th>3</th>\n",
              "      <td>2008-12-04</td>\n",
              "      <td>Albury</td>\n",
              "      <td>9.2</td>\n",
              "      <td>28.0</td>\n",
              "      <td>0.0</td>\n",
              "      <td>NaN</td>\n",
              "      <td>NaN</td>\n",
              "      <td>NE</td>\n",
              "      <td>24.0</td>\n",
              "      <td>SE</td>\n",
              "      <td>E</td>\n",
              "      <td>11.0</td>\n",
              "      <td>9.0</td>\n",
              "      <td>45.0</td>\n",
              "      <td>16.0</td>\n",
              "      <td>1017.6</td>\n",
              "      <td>1012.8</td>\n",
              "      <td>NaN</td>\n",
              "      <td>NaN</td>\n",
              "      <td>18.1</td>\n",
              "      <td>26.5</td>\n",
              "      <td>No</td>\n",
              "      <td>No</td>\n",
              "    </tr>\n",
              "    <tr>\n",
              "      <th>4</th>\n",
              "      <td>2008-12-05</td>\n",
              "      <td>Albury</td>\n",
              "      <td>17.5</td>\n",
              "      <td>32.3</td>\n",
              "      <td>1.0</td>\n",
              "      <td>NaN</td>\n",
              "      <td>NaN</td>\n",
              "      <td>W</td>\n",
              "      <td>41.0</td>\n",
              "      <td>ENE</td>\n",
              "      <td>NW</td>\n",
              "      <td>7.0</td>\n",
              "      <td>20.0</td>\n",
              "      <td>82.0</td>\n",
              "      <td>33.0</td>\n",
              "      <td>1010.8</td>\n",
              "      <td>1006.0</td>\n",
              "      <td>7.0</td>\n",
              "      <td>8.0</td>\n",
              "      <td>17.8</td>\n",
              "      <td>29.7</td>\n",
              "      <td>No</td>\n",
              "      <td>No</td>\n",
              "    </tr>\n",
              "  </tbody>\n",
              "</table>\n",
              "</div>"
            ],
            "text/plain": [
              "         Date Location  MinTemp  MaxTemp  Rainfall  Evaporation  Sunshine  \\\n",
              "0  2008-12-01   Albury     13.4     22.9       0.6          NaN       NaN   \n",
              "1  2008-12-02   Albury      7.4     25.1       0.0          NaN       NaN   \n",
              "2  2008-12-03   Albury     12.9     25.7       0.0          NaN       NaN   \n",
              "3  2008-12-04   Albury      9.2     28.0       0.0          NaN       NaN   \n",
              "4  2008-12-05   Albury     17.5     32.3       1.0          NaN       NaN   \n",
              "\n",
              "  WindGustDir  WindGustSpeed WindDir9am WindDir3pm  WindSpeed9am  \\\n",
              "0           W           44.0          W        WNW          20.0   \n",
              "1         WNW           44.0        NNW        WSW           4.0   \n",
              "2         WSW           46.0          W        WSW          19.0   \n",
              "3          NE           24.0         SE          E          11.0   \n",
              "4           W           41.0        ENE         NW           7.0   \n",
              "\n",
              "   WindSpeed3pm  Humidity9am  Humidity3pm  Pressure9am  Pressure3pm  Cloud9am  \\\n",
              "0          24.0         71.0         22.0       1007.7       1007.1       8.0   \n",
              "1          22.0         44.0         25.0       1010.6       1007.8       NaN   \n",
              "2          26.0         38.0         30.0       1007.6       1008.7       NaN   \n",
              "3           9.0         45.0         16.0       1017.6       1012.8       NaN   \n",
              "4          20.0         82.0         33.0       1010.8       1006.0       7.0   \n",
              "\n",
              "   Cloud3pm  Temp9am  Temp3pm RainToday RainTomorrow  \n",
              "0       NaN     16.9     21.8        No           No  \n",
              "1       NaN     17.2     24.3        No           No  \n",
              "2       2.0     21.0     23.2        No           No  \n",
              "3       NaN     18.1     26.5        No           No  \n",
              "4       8.0     17.8     29.7        No           No  "
            ]
          },
          "metadata": {},
          "execution_count": 3
        }
      ]
    },
    {
      "cell_type": "code",
      "metadata": {
        "id": "OPRM8w09CnXm"
      },
      "source": [
        "data = dataset.copy()"
      ],
      "execution_count": 4,
      "outputs": []
    },
    {
      "cell_type": "code",
      "metadata": {
        "colab": {
          "base_uri": "https://localhost:8080/"
        },
        "id": "8915GGi90B2r",
        "outputId": "5a107c7e-3f3b-4407-edba-c5acadaafa54"
      },
      "source": [
        "data.shape"
      ],
      "execution_count": 5,
      "outputs": [
        {
          "output_type": "execute_result",
          "data": {
            "text/plain": [
              "(145460, 23)"
            ]
          },
          "metadata": {},
          "execution_count": 5
        }
      ]
    },
    {
      "cell_type": "markdown",
      "metadata": {
        "id": "mvI2vYqGXeWw"
      },
      "source": [
        "## Data&Value description"
      ]
    },
    {
      "cell_type": "markdown",
      "metadata": {
        "id": "90rMq93teM9s"
      },
      "source": [
        "data has 145460 samples and 23 features"
      ]
    },
    {
      "cell_type": "code",
      "metadata": {
        "colab": {
          "base_uri": "https://localhost:8080/"
        },
        "id": "GNVJLexdXdOp",
        "outputId": "eddc40aa-b248-4639-ff45-ec5f91f19bef"
      },
      "source": [
        "data.shape"
      ],
      "execution_count": 6,
      "outputs": [
        {
          "output_type": "execute_result",
          "data": {
            "text/plain": [
              "(145460, 23)"
            ]
          },
          "metadata": {},
          "execution_count": 6
        }
      ]
    },
    {
      "cell_type": "code",
      "metadata": {
        "colab": {
          "base_uri": "https://localhost:8080/"
        },
        "id": "59M2tn40XlGI",
        "outputId": "cb8c4a22-d40c-402b-fb04-a7824d50d5ee"
      },
      "source": [
        "# fearures name\n",
        "print(data.columns.values)"
      ],
      "execution_count": 7,
      "outputs": [
        {
          "output_type": "stream",
          "name": "stdout",
          "text": [
            "['Date' 'Location' 'MinTemp' 'MaxTemp' 'Rainfall' 'Evaporation' 'Sunshine'\n",
            " 'WindGustDir' 'WindGustSpeed' 'WindDir9am' 'WindDir3pm' 'WindSpeed9am'\n",
            " 'WindSpeed3pm' 'Humidity9am' 'Humidity3pm' 'Pressure9am' 'Pressure3pm'\n",
            " 'Cloud9am' 'Cloud3pm' 'Temp9am' 'Temp3pm' 'RainToday' 'RainTomorrow']\n"
          ]
        }
      ]
    },
    {
      "cell_type": "markdown",
      "metadata": {
        "id": "rUYeegG_fGCU"
      },
      "source": [
        "Target value is 'RainTomorrow'"
      ]
    },
    {
      "cell_type": "code",
      "metadata": {
        "colab": {
          "base_uri": "https://localhost:8080/"
        },
        "id": "gzqjGQc4V6e0",
        "outputId": "f90221e1-f8d5-48f5-cd2f-97572e5a8722"
      },
      "source": [
        "#check_target values\n",
        "data['RainTomorrow'].value_counts()"
      ],
      "execution_count": 8,
      "outputs": [
        {
          "output_type": "execute_result",
          "data": {
            "text/plain": [
              "No     110316\n",
              "Yes     31877\n",
              "Name: RainTomorrow, dtype: int64"
            ]
          },
          "metadata": {},
          "execution_count": 8
        }
      ]
    },
    {
      "cell_type": "markdown",
      "metadata": {
        "id": "vvzzyBtged45"
      },
      "source": [
        "Data has null values and categorical values"
      ]
    },
    {
      "cell_type": "code",
      "metadata": {
        "colab": {
          "base_uri": "https://localhost:8080/"
        },
        "id": "Ty4UsvJMXom4",
        "outputId": "6ecffbfe-f0fc-4165-e329-1ddf29c338ae"
      },
      "source": [
        "data.info()"
      ],
      "execution_count": 9,
      "outputs": [
        {
          "output_type": "stream",
          "name": "stdout",
          "text": [
            "<class 'pandas.core.frame.DataFrame'>\n",
            "RangeIndex: 145460 entries, 0 to 145459\n",
            "Data columns (total 23 columns):\n",
            " #   Column         Non-Null Count   Dtype  \n",
            "---  ------         --------------   -----  \n",
            " 0   Date           145460 non-null  object \n",
            " 1   Location       145460 non-null  object \n",
            " 2   MinTemp        143975 non-null  float64\n",
            " 3   MaxTemp        144199 non-null  float64\n",
            " 4   Rainfall       142199 non-null  float64\n",
            " 5   Evaporation    82670 non-null   float64\n",
            " 6   Sunshine       75625 non-null   float64\n",
            " 7   WindGustDir    135134 non-null  object \n",
            " 8   WindGustSpeed  135197 non-null  float64\n",
            " 9   WindDir9am     134894 non-null  object \n",
            " 10  WindDir3pm     141232 non-null  object \n",
            " 11  WindSpeed9am   143693 non-null  float64\n",
            " 12  WindSpeed3pm   142398 non-null  float64\n",
            " 13  Humidity9am    142806 non-null  float64\n",
            " 14  Humidity3pm    140953 non-null  float64\n",
            " 15  Pressure9am    130395 non-null  float64\n",
            " 16  Pressure3pm    130432 non-null  float64\n",
            " 17  Cloud9am       89572 non-null   float64\n",
            " 18  Cloud3pm       86102 non-null   float64\n",
            " 19  Temp9am        143693 non-null  float64\n",
            " 20  Temp3pm        141851 non-null  float64\n",
            " 21  RainToday      142199 non-null  object \n",
            " 22  RainTomorrow   142193 non-null  object \n",
            "dtypes: float64(16), object(7)\n",
            "memory usage: 25.5+ MB\n"
          ]
        }
      ]
    },
    {
      "cell_type": "markdown",
      "metadata": {
        "id": "nAyhVS34XNu-"
      },
      "source": [
        "Data discription shows data has outlier and in most of vlaues are not normal"
      ]
    },
    {
      "cell_type": "code",
      "metadata": {
        "colab": {
          "base_uri": "https://localhost:8080/",
          "height": 538
        },
        "id": "RwIREKaMXquo",
        "outputId": "df9b1b8b-8d42-4987-b6fa-172897561954"
      },
      "source": [
        "#describe numerical features\n",
        "data.describe().T"
      ],
      "execution_count": 10,
      "outputs": [
        {
          "output_type": "execute_result",
          "data": {
            "text/html": [
              "<div>\n",
              "<style scoped>\n",
              "    .dataframe tbody tr th:only-of-type {\n",
              "        vertical-align: middle;\n",
              "    }\n",
              "\n",
              "    .dataframe tbody tr th {\n",
              "        vertical-align: top;\n",
              "    }\n",
              "\n",
              "    .dataframe thead th {\n",
              "        text-align: right;\n",
              "    }\n",
              "</style>\n",
              "<table border=\"1\" class=\"dataframe\">\n",
              "  <thead>\n",
              "    <tr style=\"text-align: right;\">\n",
              "      <th></th>\n",
              "      <th>count</th>\n",
              "      <th>mean</th>\n",
              "      <th>std</th>\n",
              "      <th>min</th>\n",
              "      <th>25%</th>\n",
              "      <th>50%</th>\n",
              "      <th>75%</th>\n",
              "      <th>max</th>\n",
              "    </tr>\n",
              "  </thead>\n",
              "  <tbody>\n",
              "    <tr>\n",
              "      <th>MinTemp</th>\n",
              "      <td>143975.0</td>\n",
              "      <td>12.194034</td>\n",
              "      <td>6.398495</td>\n",
              "      <td>-8.5</td>\n",
              "      <td>7.6</td>\n",
              "      <td>12.0</td>\n",
              "      <td>16.9</td>\n",
              "      <td>33.9</td>\n",
              "    </tr>\n",
              "    <tr>\n",
              "      <th>MaxTemp</th>\n",
              "      <td>144199.0</td>\n",
              "      <td>23.221348</td>\n",
              "      <td>7.119049</td>\n",
              "      <td>-4.8</td>\n",
              "      <td>17.9</td>\n",
              "      <td>22.6</td>\n",
              "      <td>28.2</td>\n",
              "      <td>48.1</td>\n",
              "    </tr>\n",
              "    <tr>\n",
              "      <th>Rainfall</th>\n",
              "      <td>142199.0</td>\n",
              "      <td>2.360918</td>\n",
              "      <td>8.478060</td>\n",
              "      <td>0.0</td>\n",
              "      <td>0.0</td>\n",
              "      <td>0.0</td>\n",
              "      <td>0.8</td>\n",
              "      <td>371.0</td>\n",
              "    </tr>\n",
              "    <tr>\n",
              "      <th>Evaporation</th>\n",
              "      <td>82670.0</td>\n",
              "      <td>5.468232</td>\n",
              "      <td>4.193704</td>\n",
              "      <td>0.0</td>\n",
              "      <td>2.6</td>\n",
              "      <td>4.8</td>\n",
              "      <td>7.4</td>\n",
              "      <td>145.0</td>\n",
              "    </tr>\n",
              "    <tr>\n",
              "      <th>Sunshine</th>\n",
              "      <td>75625.0</td>\n",
              "      <td>7.611178</td>\n",
              "      <td>3.785483</td>\n",
              "      <td>0.0</td>\n",
              "      <td>4.8</td>\n",
              "      <td>8.4</td>\n",
              "      <td>10.6</td>\n",
              "      <td>14.5</td>\n",
              "    </tr>\n",
              "    <tr>\n",
              "      <th>WindGustSpeed</th>\n",
              "      <td>135197.0</td>\n",
              "      <td>40.035230</td>\n",
              "      <td>13.607062</td>\n",
              "      <td>6.0</td>\n",
              "      <td>31.0</td>\n",
              "      <td>39.0</td>\n",
              "      <td>48.0</td>\n",
              "      <td>135.0</td>\n",
              "    </tr>\n",
              "    <tr>\n",
              "      <th>WindSpeed9am</th>\n",
              "      <td>143693.0</td>\n",
              "      <td>14.043426</td>\n",
              "      <td>8.915375</td>\n",
              "      <td>0.0</td>\n",
              "      <td>7.0</td>\n",
              "      <td>13.0</td>\n",
              "      <td>19.0</td>\n",
              "      <td>130.0</td>\n",
              "    </tr>\n",
              "    <tr>\n",
              "      <th>WindSpeed3pm</th>\n",
              "      <td>142398.0</td>\n",
              "      <td>18.662657</td>\n",
              "      <td>8.809800</td>\n",
              "      <td>0.0</td>\n",
              "      <td>13.0</td>\n",
              "      <td>19.0</td>\n",
              "      <td>24.0</td>\n",
              "      <td>87.0</td>\n",
              "    </tr>\n",
              "    <tr>\n",
              "      <th>Humidity9am</th>\n",
              "      <td>142806.0</td>\n",
              "      <td>68.880831</td>\n",
              "      <td>19.029164</td>\n",
              "      <td>0.0</td>\n",
              "      <td>57.0</td>\n",
              "      <td>70.0</td>\n",
              "      <td>83.0</td>\n",
              "      <td>100.0</td>\n",
              "    </tr>\n",
              "    <tr>\n",
              "      <th>Humidity3pm</th>\n",
              "      <td>140953.0</td>\n",
              "      <td>51.539116</td>\n",
              "      <td>20.795902</td>\n",
              "      <td>0.0</td>\n",
              "      <td>37.0</td>\n",
              "      <td>52.0</td>\n",
              "      <td>66.0</td>\n",
              "      <td>100.0</td>\n",
              "    </tr>\n",
              "    <tr>\n",
              "      <th>Pressure9am</th>\n",
              "      <td>130395.0</td>\n",
              "      <td>1017.649940</td>\n",
              "      <td>7.106530</td>\n",
              "      <td>980.5</td>\n",
              "      <td>1012.9</td>\n",
              "      <td>1017.6</td>\n",
              "      <td>1022.4</td>\n",
              "      <td>1041.0</td>\n",
              "    </tr>\n",
              "    <tr>\n",
              "      <th>Pressure3pm</th>\n",
              "      <td>130432.0</td>\n",
              "      <td>1015.255889</td>\n",
              "      <td>7.037414</td>\n",
              "      <td>977.1</td>\n",
              "      <td>1010.4</td>\n",
              "      <td>1015.2</td>\n",
              "      <td>1020.0</td>\n",
              "      <td>1039.6</td>\n",
              "    </tr>\n",
              "    <tr>\n",
              "      <th>Cloud9am</th>\n",
              "      <td>89572.0</td>\n",
              "      <td>4.447461</td>\n",
              "      <td>2.887159</td>\n",
              "      <td>0.0</td>\n",
              "      <td>1.0</td>\n",
              "      <td>5.0</td>\n",
              "      <td>7.0</td>\n",
              "      <td>9.0</td>\n",
              "    </tr>\n",
              "    <tr>\n",
              "      <th>Cloud3pm</th>\n",
              "      <td>86102.0</td>\n",
              "      <td>4.509930</td>\n",
              "      <td>2.720357</td>\n",
              "      <td>0.0</td>\n",
              "      <td>2.0</td>\n",
              "      <td>5.0</td>\n",
              "      <td>7.0</td>\n",
              "      <td>9.0</td>\n",
              "    </tr>\n",
              "    <tr>\n",
              "      <th>Temp9am</th>\n",
              "      <td>143693.0</td>\n",
              "      <td>16.990631</td>\n",
              "      <td>6.488753</td>\n",
              "      <td>-7.2</td>\n",
              "      <td>12.3</td>\n",
              "      <td>16.7</td>\n",
              "      <td>21.6</td>\n",
              "      <td>40.2</td>\n",
              "    </tr>\n",
              "    <tr>\n",
              "      <th>Temp3pm</th>\n",
              "      <td>141851.0</td>\n",
              "      <td>21.683390</td>\n",
              "      <td>6.936650</td>\n",
              "      <td>-5.4</td>\n",
              "      <td>16.6</td>\n",
              "      <td>21.1</td>\n",
              "      <td>26.4</td>\n",
              "      <td>46.7</td>\n",
              "    </tr>\n",
              "  </tbody>\n",
              "</table>\n",
              "</div>"
            ],
            "text/plain": [
              "                  count         mean        std    min     25%     50%  \\\n",
              "MinTemp        143975.0    12.194034   6.398495   -8.5     7.6    12.0   \n",
              "MaxTemp        144199.0    23.221348   7.119049   -4.8    17.9    22.6   \n",
              "Rainfall       142199.0     2.360918   8.478060    0.0     0.0     0.0   \n",
              "Evaporation     82670.0     5.468232   4.193704    0.0     2.6     4.8   \n",
              "Sunshine        75625.0     7.611178   3.785483    0.0     4.8     8.4   \n",
              "WindGustSpeed  135197.0    40.035230  13.607062    6.0    31.0    39.0   \n",
              "WindSpeed9am   143693.0    14.043426   8.915375    0.0     7.0    13.0   \n",
              "WindSpeed3pm   142398.0    18.662657   8.809800    0.0    13.0    19.0   \n",
              "Humidity9am    142806.0    68.880831  19.029164    0.0    57.0    70.0   \n",
              "Humidity3pm    140953.0    51.539116  20.795902    0.0    37.0    52.0   \n",
              "Pressure9am    130395.0  1017.649940   7.106530  980.5  1012.9  1017.6   \n",
              "Pressure3pm    130432.0  1015.255889   7.037414  977.1  1010.4  1015.2   \n",
              "Cloud9am        89572.0     4.447461   2.887159    0.0     1.0     5.0   \n",
              "Cloud3pm        86102.0     4.509930   2.720357    0.0     2.0     5.0   \n",
              "Temp9am        143693.0    16.990631   6.488753   -7.2    12.3    16.7   \n",
              "Temp3pm        141851.0    21.683390   6.936650   -5.4    16.6    21.1   \n",
              "\n",
              "                  75%     max  \n",
              "MinTemp          16.9    33.9  \n",
              "MaxTemp          28.2    48.1  \n",
              "Rainfall          0.8   371.0  \n",
              "Evaporation       7.4   145.0  \n",
              "Sunshine         10.6    14.5  \n",
              "WindGustSpeed    48.0   135.0  \n",
              "WindSpeed9am     19.0   130.0  \n",
              "WindSpeed3pm     24.0    87.0  \n",
              "Humidity9am      83.0   100.0  \n",
              "Humidity3pm      66.0   100.0  \n",
              "Pressure9am    1022.4  1041.0  \n",
              "Pressure3pm    1020.0  1039.6  \n",
              "Cloud9am          7.0     9.0  \n",
              "Cloud3pm          7.0     9.0  \n",
              "Temp9am          21.6    40.2  \n",
              "Temp3pm          26.4    46.7  "
            ]
          },
          "metadata": {},
          "execution_count": 10
        }
      ]
    },
    {
      "cell_type": "code",
      "metadata": {
        "colab": {
          "base_uri": "https://localhost:8080/",
          "height": 263
        },
        "id": "kculP8uFXs0i",
        "outputId": "e94d61c2-cd15-4bd0-a147-ad2e15c97473"
      },
      "source": [
        "# describe the categorical data\n",
        "data.describe(include=['O']).T"
      ],
      "execution_count": 11,
      "outputs": [
        {
          "output_type": "execute_result",
          "data": {
            "text/html": [
              "<div>\n",
              "<style scoped>\n",
              "    .dataframe tbody tr th:only-of-type {\n",
              "        vertical-align: middle;\n",
              "    }\n",
              "\n",
              "    .dataframe tbody tr th {\n",
              "        vertical-align: top;\n",
              "    }\n",
              "\n",
              "    .dataframe thead th {\n",
              "        text-align: right;\n",
              "    }\n",
              "</style>\n",
              "<table border=\"1\" class=\"dataframe\">\n",
              "  <thead>\n",
              "    <tr style=\"text-align: right;\">\n",
              "      <th></th>\n",
              "      <th>count</th>\n",
              "      <th>unique</th>\n",
              "      <th>top</th>\n",
              "      <th>freq</th>\n",
              "    </tr>\n",
              "  </thead>\n",
              "  <tbody>\n",
              "    <tr>\n",
              "      <th>Date</th>\n",
              "      <td>145460</td>\n",
              "      <td>3436</td>\n",
              "      <td>2016-09-13</td>\n",
              "      <td>49</td>\n",
              "    </tr>\n",
              "    <tr>\n",
              "      <th>Location</th>\n",
              "      <td>145460</td>\n",
              "      <td>49</td>\n",
              "      <td>Canberra</td>\n",
              "      <td>3436</td>\n",
              "    </tr>\n",
              "    <tr>\n",
              "      <th>WindGustDir</th>\n",
              "      <td>135134</td>\n",
              "      <td>16</td>\n",
              "      <td>W</td>\n",
              "      <td>9915</td>\n",
              "    </tr>\n",
              "    <tr>\n",
              "      <th>WindDir9am</th>\n",
              "      <td>134894</td>\n",
              "      <td>16</td>\n",
              "      <td>N</td>\n",
              "      <td>11758</td>\n",
              "    </tr>\n",
              "    <tr>\n",
              "      <th>WindDir3pm</th>\n",
              "      <td>141232</td>\n",
              "      <td>16</td>\n",
              "      <td>SE</td>\n",
              "      <td>10838</td>\n",
              "    </tr>\n",
              "    <tr>\n",
              "      <th>RainToday</th>\n",
              "      <td>142199</td>\n",
              "      <td>2</td>\n",
              "      <td>No</td>\n",
              "      <td>110319</td>\n",
              "    </tr>\n",
              "    <tr>\n",
              "      <th>RainTomorrow</th>\n",
              "      <td>142193</td>\n",
              "      <td>2</td>\n",
              "      <td>No</td>\n",
              "      <td>110316</td>\n",
              "    </tr>\n",
              "  </tbody>\n",
              "</table>\n",
              "</div>"
            ],
            "text/plain": [
              "               count unique         top    freq\n",
              "Date          145460   3436  2016-09-13      49\n",
              "Location      145460     49    Canberra    3436\n",
              "WindGustDir   135134     16           W    9915\n",
              "WindDir9am    134894     16           N   11758\n",
              "WindDir3pm    141232     16          SE   10838\n",
              "RainToday     142199      2          No  110319\n",
              "RainTomorrow  142193      2          No  110316"
            ]
          },
          "metadata": {},
          "execution_count": 11
        }
      ]
    },
    {
      "cell_type": "markdown",
      "metadata": {
        "id": "TJEEHI-dX0oc"
      },
      "source": [
        "Date is not a categorical value we should change it to by datetime"
      ]
    },
    {
      "cell_type": "code",
      "metadata": {
        "id": "-4NztF9gXtNC"
      },
      "source": [
        "data['Date'] = pd.to_datetime(data['Date'])"
      ],
      "execution_count": 12,
      "outputs": []
    },
    {
      "cell_type": "code",
      "metadata": {
        "colab": {
          "base_uri": "https://localhost:8080/"
        },
        "id": "RmjDTQhWUPwD",
        "outputId": "a94a8e52-8b4a-4968-d8c4-d5fcd319fd85"
      },
      "source": [
        "#find the unique values for each column\n",
        "data.apply(lambda x:x.nunique())"
      ],
      "execution_count": 13,
      "outputs": [
        {
          "output_type": "execute_result",
          "data": {
            "text/plain": [
              "Date             3436\n",
              "Location           49\n",
              "MinTemp           389\n",
              "MaxTemp           505\n",
              "Rainfall          681\n",
              "Evaporation       358\n",
              "Sunshine          145\n",
              "WindGustDir        16\n",
              "WindGustSpeed      67\n",
              "WindDir9am         16\n",
              "WindDir3pm         16\n",
              "WindSpeed9am       43\n",
              "WindSpeed3pm       44\n",
              "Humidity9am       101\n",
              "Humidity3pm       101\n",
              "Pressure9am       546\n",
              "Pressure3pm       549\n",
              "Cloud9am           10\n",
              "Cloud3pm           10\n",
              "Temp9am           441\n",
              "Temp3pm           502\n",
              "RainToday           2\n",
              "RainTomorrow        2\n",
              "dtype: int64"
            ]
          },
          "metadata": {},
          "execution_count": 13
        }
      ]
    },
    {
      "cell_type": "code",
      "metadata": {
        "id": "Y74fVzlBzw12"
      },
      "source": [
        "data.dropna(subset=['RainTomorrow'],inplace=True) "
      ],
      "execution_count": 14,
      "outputs": []
    },
    {
      "cell_type": "code",
      "metadata": {
        "colab": {
          "base_uri": "https://localhost:8080/"
        },
        "id": "0MVUeAY7LKvy",
        "outputId": "c9e5d063-b5d0-4b45-cfff-da7a450eff15"
      },
      "source": [
        "data.shape"
      ],
      "execution_count": 15,
      "outputs": [
        {
          "output_type": "execute_result",
          "data": {
            "text/plain": [
              "(142193, 23)"
            ]
          },
          "metadata": {},
          "execution_count": 15
        }
      ]
    },
    {
      "cell_type": "markdown",
      "metadata": {
        "id": "Qqmf_3GxgzDi"
      },
      "source": [
        "## Exploratory Data Analysis\n",
        "\n",
        "\n",
        "1.   Missing values\n",
        "2.   Numerical\n",
        "2.   Outlier\n",
        "3.   Categorical\n",
        "5.   Imbalance dataset\n",
        "6.   Correration"
      ]
    },
    {
      "cell_type": "markdown",
      "metadata": {
        "id": "0QkL9tR5NV_C"
      },
      "source": [
        "\n",
        "- we also drop 'location' feature because it is not useful for weather prediction"
      ]
    },
    {
      "cell_type": "code",
      "metadata": {
        "id": "nVC5sn_yfUUI"
      },
      "source": [
        "data = data.drop(['Location'], axis=1)"
      ],
      "execution_count": 16,
      "outputs": []
    },
    {
      "cell_type": "markdown",
      "metadata": {
        "id": "luhOuim1g5v4"
      },
      "source": [
        "### 1. Missing values"
      ]
    },
    {
      "cell_type": "markdown",
      "metadata": {
        "id": "RrGT8SAniCGB"
      },
      "source": [
        "21 of features have missing values. Target also has missing vlaues"
      ]
    },
    {
      "cell_type": "code",
      "metadata": {
        "colab": {
          "base_uri": "https://localhost:8080/"
        },
        "id": "XYNnsdVqgyX7",
        "outputId": "5513dfe5-d616-41a6-a68e-4e481d2abaa6"
      },
      "source": [
        "data.isnull().mean()*100"
      ],
      "execution_count": 17,
      "outputs": [
        {
          "output_type": "execute_result",
          "data": {
            "text/plain": [
              "Date              0.000000\n",
              "MinTemp           0.447983\n",
              "MaxTemp           0.226453\n",
              "Rainfall          0.988797\n",
              "Evaporation      42.789026\n",
              "Sunshine         47.692924\n",
              "WindGustDir       6.561504\n",
              "WindGustSpeed     6.519308\n",
              "WindDir9am        7.041838\n",
              "WindDir3pm        2.656952\n",
              "WindSpeed9am      0.948007\n",
              "WindSpeed3pm      1.849599\n",
              "Humidity9am       1.247600\n",
              "Humidity3pm       2.538803\n",
              "Pressure9am       9.855619\n",
              "Pressure3pm       9.832411\n",
              "Cloud9am         37.735332\n",
              "Cloud3pm         40.152469\n",
              "Temp9am           0.635756\n",
              "Temp3pm           1.917113\n",
              "RainToday         0.988797\n",
              "RainTomorrow      0.000000\n",
              "dtype: float64"
            ]
          },
          "metadata": {},
          "execution_count": 17
        }
      ]
    },
    {
      "cell_type": "markdown",
      "metadata": {
        "id": "030X-Yb8iIiD"
      },
      "source": [
        "## 2. Numerical Features\n",
        "-\ttemporal\n",
        "- discrete\n",
        "-continuous"
      ]
    },
    {
      "cell_type": "code",
      "metadata": {
        "colab": {
          "base_uri": "https://localhost:8080/"
        },
        "id": "-fUnX-faiDlQ",
        "outputId": "545c8e4e-b9fb-4576-cba0-053a474d69a6"
      },
      "source": [
        "Numerical_features = data.select_dtypes(exclude='object')\n",
        "print( Numerical_features.columns)\n",
        "print(\"===============================================\")\n",
        "print('number of Numerical_features: {}'.format(len(Numerical_features.columns)))\n"
      ],
      "execution_count": 18,
      "outputs": [
        {
          "output_type": "stream",
          "name": "stdout",
          "text": [
            "Index(['Date', 'MinTemp', 'MaxTemp', 'Rainfall', 'Evaporation', 'Sunshine',\n",
            "       'WindGustSpeed', 'WindSpeed9am', 'WindSpeed3pm', 'Humidity9am',\n",
            "       'Humidity3pm', 'Pressure9am', 'Pressure3pm', 'Cloud9am', 'Cloud3pm',\n",
            "       'Temp9am', 'Temp3pm'],\n",
            "      dtype='object')\n",
            "===============================================\n",
            "number of Numerical_features: 17\n"
          ]
        }
      ]
    },
    {
      "cell_type": "markdown",
      "metadata": {
        "id": "XdfR3agRhDMZ"
      },
      "source": [
        "### temporal features"
      ]
    },
    {
      "cell_type": "code",
      "metadata": {
        "colab": {
          "base_uri": "https://localhost:8080/"
        },
        "id": "PTXiwSgPjfWH",
        "outputId": "33e0112d-0683-48a0-a516-15992bb87be4"
      },
      "source": [
        "temporal_features = data.select_dtypes(include='datetime64')\n",
        "print(temporal_features.columns)\n",
        "print('===============================================')\n",
        "print('number of temporal_features: {}'.format(len(temporal_features.columns)))"
      ],
      "execution_count": 19,
      "outputs": [
        {
          "output_type": "stream",
          "name": "stdout",
          "text": [
            "Index(['Date'], dtype='object')\n",
            "===============================================\n",
            "number of temporal_features: 1\n"
          ]
        }
      ]
    },
    {
      "cell_type": "markdown",
      "metadata": {
        "id": "BtVdxv2UiXSp"
      },
      "source": [
        "### Discrete Features"
      ]
    },
    {
      "cell_type": "code",
      "metadata": {
        "colab": {
          "base_uri": "https://localhost:8080/"
        },
        "id": "vCnG72TRiT0B",
        "outputId": "e9f6c3df-38eb-4c19-a81c-c9a15d79ac09"
      },
      "source": [
        "discrete_features = data.select_dtypes(include='int64')\n",
        "print(discrete_features.columns)\n",
        "print('===============================================')\n",
        "print('number of Discrete features: {}'.format(len(discrete_features.columns)))\n"
      ],
      "execution_count": 20,
      "outputs": [
        {
          "output_type": "stream",
          "name": "stdout",
          "text": [
            "Index([], dtype='object')\n",
            "===============================================\n",
            "number of Discrete features: 0\n"
          ]
        }
      ]
    },
    {
      "cell_type": "markdown",
      "metadata": {
        "id": "UbDLoY6Hi71x"
      },
      "source": [
        "### Continuous Features"
      ]
    },
    {
      "cell_type": "code",
      "metadata": {
        "colab": {
          "base_uri": "https://localhost:8080/"
        },
        "id": "Blh54eDWiukZ",
        "outputId": "9068908b-c627-4c81-937a-12ef18008222"
      },
      "source": [
        "continous_features = data.select_dtypes(include='float64')\n",
        "print(continous_features.columns)\n",
        "print('===============================================')\n",
        "print('number of continous features: {}'.format(len(continous_features.columns)))"
      ],
      "execution_count": 21,
      "outputs": [
        {
          "output_type": "stream",
          "name": "stdout",
          "text": [
            "Index(['MinTemp', 'MaxTemp', 'Rainfall', 'Evaporation', 'Sunshine',\n",
            "       'WindGustSpeed', 'WindSpeed9am', 'WindSpeed3pm', 'Humidity9am',\n",
            "       'Humidity3pm', 'Pressure9am', 'Pressure3pm', 'Cloud9am', 'Cloud3pm',\n",
            "       'Temp9am', 'Temp3pm'],\n",
            "      dtype='object')\n",
            "===============================================\n",
            "number of continous features: 16\n"
          ]
        }
      ]
    },
    {
      "cell_type": "markdown",
      "metadata": {
        "id": "eJIjPhch007W"
      },
      "source": [
        "### Univariate"
      ]
    },
    {
      "cell_type": "markdown",
      "metadata": {
        "id": "lvCQMOt5hW9A"
      },
      "source": [
        "Histograms show most of the variables are skewed"
      ]
    },
    {
      "cell_type": "code",
      "metadata": {
        "colab": {
          "base_uri": "https://localhost:8080/",
          "height": 1000
        },
        "id": "6TdxOgd6iefx",
        "outputId": "35a86f60-6abf-4a85-eaa1-95aae1ec8928"
      },
      "source": [
        "# Histogram plot\n",
        "fig,axes = plt.subplots(figsize=(12,15))\n",
        "axes.grid(False)\n",
        "axes.set_yticklabels([])\n",
        "axes.set_xticklabels([])\n",
        "for idx,num_col in enumerate(continous_features):\n",
        "    fig.add_subplot(8, 2, idx+1)\n",
        "    sns.distplot(data[num_col], kde=False, bins=20)\n",
        "    fig.tight_layout()"
      ],
      "execution_count": 22,
      "outputs": [
        {
          "output_type": "display_data",
          "data": {
            "image/png": "[encoded data removed]",
            "text/plain": [
              "<Figure size 864x1080 with 17 Axes>"
            ]
          },
          "metadata": {
            "needs_background": "light"
          }
        }
      ]
    },
    {
      "cell_type": "markdown",
      "metadata": {
        "id": "O36CdElXkckH"
      },
      "source": [
        "## 3. OUTLIER"
      ]
    },
    {
      "cell_type": "markdown",
      "metadata": {
        "id": "6eisMI0aTIc0"
      },
      "source": [
        "Boxplots confirm that there are outliers in these variables. So range of them should be considered."
      ]
    },
    {
      "cell_type": "code",
      "metadata": {
        "colab": {
          "base_uri": "https://localhost:8080/",
          "height": 1000
        },
        "id": "lbKSF7COkbMM",
        "outputId": "b8c801a0-0685-4731-a434-498884e7bc22"
      },
      "source": [
        "fig,axes = plt.subplots(figsize=(12,15))\n",
        "axes.grid(False)\n",
        "axes.set_yticklabels([])\n",
        "axes.set_xticklabels([])\n",
        "for idx,num_col in enumerate(continous_features):\n",
        "    fig.add_subplot(8, 2, idx+1)\n",
        "    sns.boxplot(data=data[num_col].dropna(), y=data[num_col])\n",
        "    fig.tight_layout()"
      ],
      "execution_count": 23,
      "outputs": [
        {
          "output_type": "display_data",
          "data": {
            "image/png": "[encoded data removed]",
            "text/plain": [
              "<Figure size 864x1080 with 17 Axes>"
            ]
          },
          "metadata": {
            "needs_background": "light"
          }
        }
      ]
    },
    {
      "cell_type": "markdown",
      "metadata": {
        "id": "_OjA0ALE0v4T"
      },
      "source": [
        "### Bivariate"
      ]
    },
    {
      "cell_type": "code",
      "metadata": {
        "colab": {
          "base_uri": "https://localhost:8080/",
          "height": 1000
        },
        "id": "6wDh31vB0_s1",
        "outputId": "097c5426-effd-45e3-872f-a58ce88c3033"
      },
      "source": [
        "for num_col in continous_features:\n",
        "  g = sns.FacetGrid(data, col='RainTomorrow')\n",
        "  g.map(plt.hist, num_col, bins=10)"
      ],
      "execution_count": 24,
      "outputs": [
        {
          "output_type": "display_data",
          "data": {
            "image/png": "[encoded data removed]",
            "text/plain": [
              "<Figure size 432x216 with 2 Axes>"
            ]
          },
          "metadata": {
            "needs_background": "light"
          }
        },
        {
          "output_type": "display_data",
          "data": {
            "image/png": "[encoded data removed]",
            "text/plain": [
              "<Figure size 432x216 with 2 Axes>"
            ]
          },
          "metadata": {
            "needs_background": "light"
          }
        },
        {
          "output_type": "display_data",
          "data": {
            "image/png": "[encoded data removed]",
            "text/plain": [
              "<Figure size 432x216 with 2 Axes>"
            ]
          },
          "metadata": {
            "needs_background": "light"
          }
        },
        {
          "output_type": "display_data",
          "data": {
            "image/png": "[encoded data removed]",
            "text/plain": [
              "<Figure size 432x216 with 2 Axes>"
            ]
          },
          "metadata": {
            "needs_background": "light"
          }
        },
        {
          "output_type": "display_data",
          "data": {
            "image/png": "[encoded data removed]",
            "text/plain": [
              "<Figure size 432x216 with 2 Axes>"
            ]
          },
          "metadata": {
            "needs_background": "light"
          }
        },
        {
          "output_type": "display_data",
          "data": {
            "image/png": "[encoded data removed]",
            "text/plain": [
              "<Figure size 432x216 with 2 Axes>"
            ]
          },
          "metadata": {
            "needs_background": "light"
          }
        },
        {
          "output_type": "display_data",
          "data": {
            "image/png": "[encoded data removed]",
            "text/plain": [
              "<Figure size 432x216 with 2 Axes>"
            ]
          },
          "metadata": {
            "needs_background": "light"
          }
        },
        {
          "output_type": "display_data",
          "data": {
            "image/png": "[encoded data removed]",
            "text/plain": [
              "<Figure size 432x216 with 2 Axes>"
            ]
          },
          "metadata": {
            "needs_background": "light"
          }
        },
        {
          "output_type": "display_data",
          "data": {
            "image/png": "[encoded data removed]",
            "text/plain": [
              "<Figure size 432x216 with 2 Axes>"
            ]
          },
          "metadata": {
            "needs_background": "light"
          }
        },
        {
          "output_type": "display_data",
          "data": {
            "image/png": "[encoded data removed]",
            "text/plain": [
              "<Figure size 432x216 with 2 Axes>"
            ]
          },
          "metadata": {
            "needs_background": "light"
          }
        },
        {
          "output_type": "display_data",
          "data": {
            "image/png": "[encoded data removed]",
            "text/plain": [
              "<Figure size 432x216 with 2 Axes>"
            ]
          },
          "metadata": {
            "needs_background": "light"
          }
        },
        {
          "output_type": "display_data",
          "data": {
            "image/png": "[encoded data removed]",
            "text/plain": [
              "<Figure size 432x216 with 2 Axes>"
            ]
          },
          "metadata": {
            "needs_background": "light"
          }
        },
        {
          "output_type": "display_data",
          "data": {
            "image/png": "[encoded data removed]",
            "text/plain": [
              "<Figure size 432x216 with 2 Axes>"
            ]
          },
          "metadata": {
            "needs_background": "light"
          }
        },
        {
          "output_type": "display_data",
          "data": {
            "image/png": "[encoded data removed]",
            "text/plain": [
              "<Figure size 432x216 with 2 Axes>"
            ]
          },
          "metadata": {
            "needs_background": "light"
          }
        },
        {
          "output_type": "display_data",
          "data": {
            "image/png": "[encoded data removed]",
            "text/plain": [
              "<Figure size 432x216 with 2 Axes>"
            ]
          },
          "metadata": {
            "needs_background": "light"
          }
        },
        {
          "output_type": "display_data",
          "data": {
            "image/png": "[encoded data removed]",
            "text/plain": [
              "<Figure size 432x216 with 2 Axes>"
            ]
          },
          "metadata": {
            "needs_background": "light"
          }
        }
      ]
    },
    {
      "cell_type": "markdown",
      "metadata": {
        "id": "k-WbtFEwlCuo"
      },
      "source": [
        "## 4. Categorical Features"
      ]
    },
    {
      "cell_type": "markdown",
      "metadata": {
        "id": "J5ibcqH-LCXy"
      },
      "source": [
        "Categorical features plot shows that 'WindGustDir', 'WindDir9am', 'WindDir3pm' have a lot of categories and 'RainToday' 2 category which can easliy handle by getdummies"
      ]
    },
    {
      "cell_type": "code",
      "metadata": {
        "colab": {
          "base_uri": "https://localhost:8080/"
        },
        "id": "FH3UmymPlAD6",
        "outputId": "6dfa2dab-cc89-498c-c862-d1d03a75a639"
      },
      "source": [
        "categorical_features = data.select_dtypes(include='object')\n",
        "print(categorical_features.columns)\n",
        "print('===============================================')\n",
        "print('number of Categorical features: {}'.format(len(categorical_features.columns)))"
      ],
      "execution_count": 25,
      "outputs": [
        {
          "output_type": "stream",
          "name": "stdout",
          "text": [
            "Index(['WindGustDir', 'WindDir9am', 'WindDir3pm', 'RainToday', 'RainTomorrow'], dtype='object')\n",
            "===============================================\n",
            "number of Categorical features: 5\n"
          ]
        }
      ]
    },
    {
      "cell_type": "code",
      "metadata": {
        "id": "pgbkMnWXFM2_"
      },
      "source": [
        "categorical_features = categorical_features.drop(['RainTomorrow'], axis=1)"
      ],
      "execution_count": 26,
      "outputs": []
    },
    {
      "cell_type": "code",
      "metadata": {
        "colab": {
          "base_uri": "https://localhost:8080/",
          "height": 1000
        },
        "id": "S_3IHTSdlJ5f",
        "outputId": "122f8d0c-1ae2-4632-d63e-08dfaf560d33"
      },
      "source": [
        "\n",
        "fig,axes = plt.subplots(figsize=(12,15))\n",
        "rgb_values = sns.color_palette(\"Set2\", 6)\n",
        "axes.grid(False)\n",
        "axes.set_yticklabels([])\n",
        "axes.set_xticklabels([])\n",
        "sns.set_theme(style=\"darkgrid\")\n",
        "for idx,cat_col in enumerate(categorical_features):\n",
        "    fig.add_subplot(4, 1, idx+1)\n",
        "    sns.countplot(x=cat_col, data=data, palette=rgb_values)\n",
        "    fig.tight_layout()"
      ],
      "execution_count": 27,
      "outputs": [
        {
          "output_type": "display_data",
          "data": {
            "image/png": "[encoded data removed]",
            "text/plain": [
              "<Figure size 864x1080 with 5 Axes>"
            ]
          },
          "metadata": {
            "needs_background": "light"
          }
        }
      ]
    },
    {
      "cell_type": "markdown",
      "metadata": {
        "id": "ucUoD0EO4Cnu"
      },
      "source": [
        "###Bivariate plot"
      ]
    },
    {
      "cell_type": "markdown",
      "metadata": {
        "id": "Z4dU7Pk-L8yx"
      },
      "source": [
        "RainToday feature shows that the if today is rainy, tommorow will most likely be rainy"
      ]
    },
    {
      "cell_type": "code",
      "metadata": {
        "colab": {
          "base_uri": "https://localhost:8080/",
          "height": 1000
        },
        "id": "qX9OR0XqlTfh",
        "outputId": "da2cc68f-3ee5-4b67-a67b-ed30e141bd16"
      },
      "source": [
        "fig,axes = plt.subplots(figsize=(12,15))\n",
        "axes.grid(False)\n",
        "axes.set_yticklabels([])\n",
        "axes.set_xticklabels([])\n",
        "sns.set_theme(style=\"darkgrid\")\n",
        "for idx,cat_col in enumerate(categorical_features):\n",
        "    fig.add_subplot(4, 1, idx+1)\n",
        "    sns.countplot(x=data[cat_col],data=data,hue='RainTomorrow')\n",
        "    fig.tight_layout()\n"
      ],
      "execution_count": 28,
      "outputs": [
        {
          "output_type": "display_data",
          "data": {
            "image/png": "[encoded data removed]",
            "text/plain": [
              "<Figure size 864x1080 with 5 Axes>"
            ]
          },
          "metadata": {}
        }
      ]
    },
    {
      "cell_type": "markdown",
      "metadata": {
        "id": "OzQEeHPlcEjN"
      },
      "source": [
        "## 5.imbalance dataset"
      ]
    },
    {
      "cell_type": "code",
      "metadata": {
        "colab": {
          "base_uri": "https://localhost:8080/"
        },
        "id": "s6HZd8q9WNSi",
        "outputId": "412edad7-03ae-4686-e0ce-59642e1aaee1"
      },
      "source": [
        "#control the percent of target values\n",
        "data['RainTomorrow'].value_counts(normalize=True)"
      ],
      "execution_count": 29,
      "outputs": [
        {
          "output_type": "execute_result",
          "data": {
            "text/plain": [
              "No     0.775819\n",
              "Yes    0.224181\n",
              "Name: RainTomorrow, dtype: float64"
            ]
          },
          "metadata": {},
          "execution_count": 29
        }
      ]
    },
    {
      "cell_type": "markdown",
      "metadata": {
        "id": "2eA9ibLpNsRl"
      },
      "source": [
        "Target value is imbalanced so it should be handle befor training\n",
        "\n"
      ]
    },
    {
      "cell_type": "code",
      "metadata": {
        "colab": {
          "base_uri": "https://localhost:8080/",
          "height": 302
        },
        "id": "Mn61Ce8lbGxp",
        "outputId": "fcd1ff52-15dd-48af-b0c9-3aa240c9f9b2"
      },
      "source": [
        "# plot target value\n",
        "sns.countplot(x='RainTomorrow', data=data)"
      ],
      "execution_count": 30,
      "outputs": [
        {
          "output_type": "execute_result",
          "data": {
            "text/plain": [
              "<matplotlib.axes._subplots.AxesSubplot at 0x7fc0a90b8c10>"
            ]
          },
          "metadata": {},
          "execution_count": 30
        },
        {
          "output_type": "display_data",
          "data": {
            "image/png": "[encoded data removed]",
            "text/plain": [
              "<Figure size 432x288 with 1 Axes>"
            ]
          },
          "metadata": {}
        }
      ]
    },
    {
      "cell_type": "markdown",
      "metadata": {
        "id": "F6rxRWv7PQc1"
      },
      "source": [
        "## 6.Features correlation"
      ]
    },
    {
      "cell_type": "code",
      "metadata": {
        "colab": {
          "base_uri": "https://localhost:8080/",
          "height": 675
        },
        "id": "21-tya-HPVfS",
        "outputId": "84b06e0b-e02a-4579-f9a5-5e0364defc2f"
      },
      "source": [
        "plt.figure(figsize=(12,10))\n",
        "cor = data.corr()\n",
        "sns.heatmap(cor, annot=True, cmap=plt.cm.CMRmap_r)\n",
        "plt.show()"
      ],
      "execution_count": 31,
      "outputs": [
        {
          "output_type": "display_data",
          "data": {
            "image/png": "[encoded data removed]",
            "text/plain": [
              "<Figure size 864x720 with 2 Axes>"
            ]
          },
          "metadata": {}
        }
      ]
    },
    {
      "cell_type": "markdown",
      "metadata": {
        "id": "YbAo4IQNUsgc"
      },
      "source": [
        "1.  **max and min temp**  are correlated to each other and strongly correlated to **temp9am and temp3pm**.\n",
        "2.  **temp9am and temp3pm** are correlated to each other.\n",
        "2. **windguestspeed, windspeed3am, windspeed9am** are correlated to each other\n",
        "3. **Evaporaion** are correlated to **max, min temp, temp9am and temp3pm**.\n",
        "- So we can drop some of these variables with highly correlation"
      ]
    },
    {
      "cell_type": "code",
      "metadata": {
        "id": "il-MePgfTete"
      },
      "source": [
        "data = data.drop(['Temp9am', 'Temp3pm' ], axis=1)"
      ],
      "execution_count": 32,
      "outputs": []
    },
    {
      "cell_type": "markdown",
      "metadata": {
        "id": "7R2JviKR3EaH"
      },
      "source": [
        "# Preprocess\n",
        "\n",
        "\n",
        "1.   Handling missing values\n",
        "2.   Handling Outlier\n",
        "3.   Handling Categorical features\n",
        "5.   feature Engine\n"
      ]
    },
    {
      "cell_type": "markdown",
      "metadata": {
        "id": "bSWTL8tv6idl"
      },
      "source": [
        "## 1. Handling missing values\n"
      ]
    },
    {
      "cell_type": "markdown",
      "metadata": {
        "id": "xNiz6Hu1xQT4"
      },
      "source": [
        "### Handling continuous missing values with two method \n",
        "For values that are missed more than 10 percent, the random value imputation are best and dont change the data distribution  and for other median is applied"
      ]
    },
    {
      "cell_type": "code",
      "metadata": {
        "id": "GCFifM1I6hyy"
      },
      "source": [
        "features= ['Evaporation', 'Sunshine', 'Cloud9am', 'Cloud3pm', 'Pressure9am', 'Pressure3pm' ]\n",
        "for feature in features:\n",
        "       ##It will have the random sample to fill the na\n",
        "       random_sample=data[feature].dropna().sample(data[feature].isnull().sum(),random_state=0)\n",
        "       ##pandas need to have same index in order to merge the dataset\n",
        "       random_sample.index=data[data[feature].isnull()].index\n",
        "       data.loc[data[feature].isnull(),feature]=random_sample"
      ],
      "execution_count": 33,
      "outputs": []
    },
    {
      "cell_type": "code",
      "metadata": {
        "id": "CkMvz6chVxDd"
      },
      "source": [
        "continous_features = continous_features.drop(['Temp9am', 'Temp3pm'], axis=1)"
      ],
      "execution_count": 34,
      "outputs": []
    },
    {
      "cell_type": "code",
      "metadata": {
        "id": "fpIWG694to-o"
      },
      "source": [
        "for feature in continous_features.isnull():\n",
        "    data[feature].fillna(data[feature].median(), inplace=True)"
      ],
      "execution_count": 35,
      "outputs": []
    },
    {
      "cell_type": "markdown",
      "metadata": {
        "id": "U8PexL2QyKNA"
      },
      "source": [
        "### Handling categorical missing values with mode"
      ]
    },
    {
      "cell_type": "code",
      "metadata": {
        "id": "kxDNUTZ1yZvX"
      },
      "source": [
        "for feature in categorical_features.isnull():\n",
        "    data[feature].fillna(data[feature].mode()[0], inplace=True)"
      ],
      "execution_count": 36,
      "outputs": []
    },
    {
      "cell_type": "code",
      "metadata": {
        "colab": {
          "base_uri": "https://localhost:8080/"
        },
        "id": "OmIJoppz-iRV",
        "outputId": "79b11150-94d0-4b52-ba66-b5435bd80ed0"
      },
      "source": [
        "data.isnull().mean()*100"
      ],
      "execution_count": 37,
      "outputs": [
        {
          "output_type": "execute_result",
          "data": {
            "text/plain": [
              "Date             0.0\n",
              "MinTemp          0.0\n",
              "MaxTemp          0.0\n",
              "Rainfall         0.0\n",
              "Evaporation      0.0\n",
              "Sunshine         0.0\n",
              "WindGustDir      0.0\n",
              "WindGustSpeed    0.0\n",
              "WindDir9am       0.0\n",
              "WindDir3pm       0.0\n",
              "WindSpeed9am     0.0\n",
              "WindSpeed3pm     0.0\n",
              "Humidity9am      0.0\n",
              "Humidity3pm      0.0\n",
              "Pressure9am      0.0\n",
              "Pressure3pm      0.0\n",
              "Cloud9am         0.0\n",
              "Cloud3pm         0.0\n",
              "RainToday        0.0\n",
              "RainTomorrow     0.0\n",
              "dtype: float64"
            ]
          },
          "metadata": {},
          "execution_count": 37
        }
      ]
    },
    {
      "cell_type": "markdown",
      "metadata": {
        "id": "CAA3lhMozyff"
      },
      "source": [
        "## 2. Handling Outlier\n",
        "we have outlier in 'MinTemp', 'MaxTemp', 'Rainfall', 'Evaporation',\n",
        "       'Humidity9am', 'Pressure9am', 'Pressure3pm', WindGuestSpeed\n",
        "     \n"
      ]
    },
    {
      "cell_type": "markdown",
      "metadata": {
        "id": "d_0G_Ng2cWzK"
      },
      "source": [
        "If The Data Is skewed Distributed We use this\n"
      ]
    },
    {
      "cell_type": "code",
      "metadata": {
        "id": "VrHxNS6Zfr4o"
      },
      "source": [
        "skewed_features = ['MaxTemp', 'MinTemp', 'Rainfall', 'Evaporation', 'WindGustSpeed', 'Humidity9am','Pressure9am', 'Pressure3pm', 'WindSpeed9am', 'WindSpeed3pm']"
      ],
      "execution_count": 38,
      "outputs": []
    },
    {
      "cell_type": "code",
      "metadata": {
        "id": "ngVsl5A2fEyN"
      },
      "source": [
        "def low_upper_band(X_data, feature):\n",
        "           #### Lets compute the Interquantile range to calculate the boundaries\n",
        "           IQR=data[feature].quantile(0.75)-data[feature].quantile(0.25)\n",
        "           #### Extreme outliers\n",
        "           lower_bridge=data[feature].quantile(0.25)-(IQR*3)\n",
        "           upper_bridge=data[feature].quantile(0.75)+(IQR*3)\n",
        "           return lower_bridge, upper_bridge"
      ],
      "execution_count": 39,
      "outputs": []
    },
    {
      "cell_type": "code",
      "metadata": {
        "colab": {
          "base_uri": "https://localhost:8080/"
        },
        "id": "mtqxRn3HcWWS",
        "outputId": "c07da553-e73b-47a5-c85a-037f6da0a2e7"
      },
      "source": [
        "for feature in skewed_features:\n",
        "  print(feature,':', low_upper_band(data, feature ))"
      ],
      "execution_count": 40,
      "outputs": [
        {
          "output_type": "stream",
          "name": "stdout",
          "text": [
            "MaxTemp : (-13.000000000000004, 59.1)\n",
            "MinTemp : (-20.0, 44.400000000000006)\n",
            "Rainfall : (-1.7999999999999998, 2.4)\n",
            "Evaporation : (-11.800000000000002, 21.800000000000004)\n",
            "WindGustSpeed : (-14.0, 91.0)\n",
            "Humidity9am : (-21.0, 161.0)\n",
            "Pressure9am : (984.4, 1050.9)\n",
            "Pressure3pm : (982.0, 1048.5)\n",
            "WindSpeed9am : (-29.0, 55.0)\n",
            "WindSpeed3pm : (-20.0, 57.0)\n"
          ]
        }
      ]
    },
    {
      "cell_type": "code",
      "metadata": {
        "colab": {
          "base_uri": "https://localhost:8080/",
          "height": 294
        },
        "id": "wiwQP3xJcSq9",
        "outputId": "ee860a40-091e-4687-d068-46ed9a518cac"
      },
      "source": [
        "data[skewed_features].describe()\n"
      ],
      "execution_count": 41,
      "outputs": [
        {
          "output_type": "execute_result",
          "data": {
            "text/html": [
              "<div>\n",
              "<style scoped>\n",
              "    .dataframe tbody tr th:only-of-type {\n",
              "        vertical-align: middle;\n",
              "    }\n",
              "\n",
              "    .dataframe tbody tr th {\n",
              "        vertical-align: top;\n",
              "    }\n",
              "\n",
              "    .dataframe thead th {\n",
              "        text-align: right;\n",
              "    }\n",
              "</style>\n",
              "<table border=\"1\" class=\"dataframe\">\n",
              "  <thead>\n",
              "    <tr style=\"text-align: right;\">\n",
              "      <th></th>\n",
              "      <th>MaxTemp</th>\n",
              "      <th>MinTemp</th>\n",
              "      <th>Rainfall</th>\n",
              "      <th>Evaporation</th>\n",
              "      <th>WindGustSpeed</th>\n",
              "      <th>Humidity9am</th>\n",
              "      <th>Pressure9am</th>\n",
              "      <th>Pressure3pm</th>\n",
              "      <th>WindSpeed9am</th>\n",
              "      <th>WindSpeed3pm</th>\n",
              "    </tr>\n",
              "  </thead>\n",
              "  <tbody>\n",
              "    <tr>\n",
              "      <th>count</th>\n",
              "      <td>142193.000000</td>\n",
              "      <td>142193.000000</td>\n",
              "      <td>142193.000000</td>\n",
              "      <td>142193.000000</td>\n",
              "      <td>142193.000000</td>\n",
              "      <td>142193.000000</td>\n",
              "      <td>142193.000000</td>\n",
              "      <td>142193.000000</td>\n",
              "      <td>142193.000000</td>\n",
              "      <td>142193.000000</td>\n",
              "    </tr>\n",
              "    <tr>\n",
              "      <th>mean</th>\n",
              "      <td>23.225365</td>\n",
              "      <td>12.185565</td>\n",
              "      <td>2.326738</td>\n",
              "      <td>5.468387</td>\n",
              "      <td>39.920123</td>\n",
              "      <td>68.858235</td>\n",
              "      <td>1017.649230</td>\n",
              "      <td>1015.257691</td>\n",
              "      <td>13.992489</td>\n",
              "      <td>18.644279</td>\n",
              "    </tr>\n",
              "    <tr>\n",
              "      <th>std</th>\n",
              "      <td>7.109617</td>\n",
              "      <td>6.388936</td>\n",
              "      <td>8.426426</td>\n",
              "      <td>4.185773</td>\n",
              "      <td>13.140632</td>\n",
              "      <td>18.932512</td>\n",
              "      <td>7.113103</td>\n",
              "      <td>7.043091</td>\n",
              "      <td>8.851614</td>\n",
              "      <td>8.721688</td>\n",
              "    </tr>\n",
              "    <tr>\n",
              "      <th>min</th>\n",
              "      <td>-4.800000</td>\n",
              "      <td>-8.500000</td>\n",
              "      <td>0.000000</td>\n",
              "      <td>0.000000</td>\n",
              "      <td>6.000000</td>\n",
              "      <td>0.000000</td>\n",
              "      <td>980.500000</td>\n",
              "      <td>977.100000</td>\n",
              "      <td>0.000000</td>\n",
              "      <td>0.000000</td>\n",
              "    </tr>\n",
              "    <tr>\n",
              "      <th>25%</th>\n",
              "      <td>17.900000</td>\n",
              "      <td>7.600000</td>\n",
              "      <td>0.000000</td>\n",
              "      <td>2.600000</td>\n",
              "      <td>31.000000</td>\n",
              "      <td>57.000000</td>\n",
              "      <td>1012.900000</td>\n",
              "      <td>1010.500000</td>\n",
              "      <td>7.000000</td>\n",
              "      <td>13.000000</td>\n",
              "    </tr>\n",
              "    <tr>\n",
              "      <th>50%</th>\n",
              "      <td>22.600000</td>\n",
              "      <td>12.000000</td>\n",
              "      <td>0.000000</td>\n",
              "      <td>4.800000</td>\n",
              "      <td>39.000000</td>\n",
              "      <td>70.000000</td>\n",
              "      <td>1017.600000</td>\n",
              "      <td>1015.200000</td>\n",
              "      <td>13.000000</td>\n",
              "      <td>19.000000</td>\n",
              "    </tr>\n",
              "    <tr>\n",
              "      <th>75%</th>\n",
              "      <td>28.200000</td>\n",
              "      <td>16.800000</td>\n",
              "      <td>0.600000</td>\n",
              "      <td>7.400000</td>\n",
              "      <td>46.000000</td>\n",
              "      <td>83.000000</td>\n",
              "      <td>1022.400000</td>\n",
              "      <td>1020.000000</td>\n",
              "      <td>19.000000</td>\n",
              "      <td>24.000000</td>\n",
              "    </tr>\n",
              "    <tr>\n",
              "      <th>max</th>\n",
              "      <td>48.100000</td>\n",
              "      <td>33.900000</td>\n",
              "      <td>371.000000</td>\n",
              "      <td>145.000000</td>\n",
              "      <td>135.000000</td>\n",
              "      <td>100.000000</td>\n",
              "      <td>1041.000000</td>\n",
              "      <td>1039.600000</td>\n",
              "      <td>130.000000</td>\n",
              "      <td>87.000000</td>\n",
              "    </tr>\n",
              "  </tbody>\n",
              "</table>\n",
              "</div>"
            ],
            "text/plain": [
              "             MaxTemp        MinTemp       Rainfall    Evaporation  \\\n",
              "count  142193.000000  142193.000000  142193.000000  142193.000000   \n",
              "mean       23.225365      12.185565       2.326738       5.468387   \n",
              "std         7.109617       6.388936       8.426426       4.185773   \n",
              "min        -4.800000      -8.500000       0.000000       0.000000   \n",
              "25%        17.900000       7.600000       0.000000       2.600000   \n",
              "50%        22.600000      12.000000       0.000000       4.800000   \n",
              "75%        28.200000      16.800000       0.600000       7.400000   \n",
              "max        48.100000      33.900000     371.000000     145.000000   \n",
              "\n",
              "       WindGustSpeed    Humidity9am    Pressure9am    Pressure3pm  \\\n",
              "count  142193.000000  142193.000000  142193.000000  142193.000000   \n",
              "mean       39.920123      68.858235    1017.649230    1015.257691   \n",
              "std        13.140632      18.932512       7.113103       7.043091   \n",
              "min         6.000000       0.000000     980.500000     977.100000   \n",
              "25%        31.000000      57.000000    1012.900000    1010.500000   \n",
              "50%        39.000000      70.000000    1017.600000    1015.200000   \n",
              "75%        46.000000      83.000000    1022.400000    1020.000000   \n",
              "max       135.000000     100.000000    1041.000000    1039.600000   \n",
              "\n",
              "        WindSpeed9am   WindSpeed3pm  \n",
              "count  142193.000000  142193.000000  \n",
              "mean       13.992489      18.644279  \n",
              "std         8.851614       8.721688  \n",
              "min         0.000000       0.000000  \n",
              "25%         7.000000      13.000000  \n",
              "50%        13.000000      19.000000  \n",
              "75%        19.000000      24.000000  \n",
              "max       130.000000      87.000000  "
            ]
          },
          "metadata": {},
          "execution_count": 41
        }
      ]
    },
    {
      "cell_type": "code",
      "metadata": {
        "id": "t1CWteRGAO29"
      },
      "source": [
        "#data = data[(data[\"Rainfall\"]<165)]\n",
        "#data = data[(data[\"Evaporation\"]<21.8)]\n",
        "#data = data[(data[\"WindGustSpeed\"]<91.0)]\n",
        "#data = data[(data[\"WindSpeed9am\"]<55)]\n",
        "#data = data[(data[\"WindSpeed3pm\"]<57)]"
      ],
      "execution_count": 42,
      "outputs": []
    },
    {
      "cell_type": "code",
      "metadata": {
        "colab": {
          "base_uri": "https://localhost:8080/"
        },
        "id": "eh2-fapOBiOt",
        "outputId": "7391a8d0-6a74-49a1-cbcb-fe004ea40a1d"
      },
      "source": [
        "data.shape"
      ],
      "execution_count": 43,
      "outputs": [
        {
          "output_type": "execute_result",
          "data": {
            "text/plain": [
              "(142193, 20)"
            ]
          },
          "metadata": {},
          "execution_count": 43
        }
      ]
    },
    {
      "cell_type": "code",
      "metadata": {
        "colab": {
          "base_uri": "https://localhost:8080/"
        },
        "id": "RCfGjs9ZBy89",
        "outputId": "86a5c121-bdae-4e8b-d3c1-3e4cffb5c37a"
      },
      "source": [
        "#control the percent of target values\n",
        "data['RainTomorrow'].value_counts(normalize=True)"
      ],
      "execution_count": 44,
      "outputs": [
        {
          "output_type": "execute_result",
          "data": {
            "text/plain": [
              "No     0.775819\n",
              "Yes    0.224181\n",
              "Name: RainTomorrow, dtype: float64"
            ]
          },
          "metadata": {},
          "execution_count": 44
        }
      ]
    },
    {
      "cell_type": "markdown",
      "metadata": {
        "id": "XCjIccKE6tzF"
      },
      "source": [
        "## 3.Handling Categorical features"
      ]
    },
    {
      "cell_type": "code",
      "metadata": {
        "colab": {
          "base_uri": "https://localhost:8080/"
        },
        "id": "LV_2SKzF6s29",
        "outputId": "5ae0657c-d499-44d5-de23-adad501340cf"
      },
      "source": [
        "categorical_features.apply(lambda x:x.nunique())"
      ],
      "execution_count": 45,
      "outputs": [
        {
          "output_type": "execute_result",
          "data": {
            "text/plain": [
              "WindGustDir    16\n",
              "WindDir9am     16\n",
              "WindDir3pm     16\n",
              "RainToday       2\n",
              "dtype: int64"
            ]
          },
          "metadata": {},
          "execution_count": 45
        }
      ]
    },
    {
      "cell_type": "markdown",
      "metadata": {
        "id": "AuHXZ7ibMEHk"
      },
      "source": [
        "For handeling categorical feature, get_dummies is used"
      ]
    },
    {
      "cell_type": "code",
      "metadata": {
        "id": "vYnF6DNp-q2-"
      },
      "source": [
        "data = pd.get_dummies(data, columns=categorical_features.columns, drop_first=True)"
      ],
      "execution_count": 46,
      "outputs": []
    },
    {
      "cell_type": "code",
      "metadata": {
        "colab": {
          "base_uri": "https://localhost:8080/",
          "height": 305
        },
        "id": "eyjuCuXYNtut",
        "outputId": "021864d0-f396-4f99-9ab0-6d72a276e108"
      },
      "source": [
        "data.head()"
      ],
      "execution_count": 47,
      "outputs": [
        {
          "output_type": "execute_result",
          "data": {
            "text/html": [
              "<div>\n",
              "<style scoped>\n",
              "    .dataframe tbody tr th:only-of-type {\n",
              "        vertical-align: middle;\n",
              "    }\n",
              "\n",
              "    .dataframe tbody tr th {\n",
              "        vertical-align: top;\n",
              "    }\n",
              "\n",
              "    .dataframe thead th {\n",
              "        text-align: right;\n",
              "    }\n",
              "</style>\n",
              "<table border=\"1\" class=\"dataframe\">\n",
              "  <thead>\n",
              "    <tr style=\"text-align: right;\">\n",
              "      <th></th>\n",
              "      <th>Date</th>\n",
              "      <th>MinTemp</th>\n",
              "      <th>MaxTemp</th>\n",
              "      <th>Rainfall</th>\n",
              "      <th>Evaporation</th>\n",
              "      <th>Sunshine</th>\n",
              "      <th>WindGustSpeed</th>\n",
              "      <th>WindSpeed9am</th>\n",
              "      <th>WindSpeed3pm</th>\n",
              "      <th>Humidity9am</th>\n",
              "      <th>Humidity3pm</th>\n",
              "      <th>Pressure9am</th>\n",
              "      <th>Pressure3pm</th>\n",
              "      <th>Cloud9am</th>\n",
              "      <th>Cloud3pm</th>\n",
              "      <th>RainTomorrow</th>\n",
              "      <th>WindGustDir_ENE</th>\n",
              "      <th>WindGustDir_ESE</th>\n",
              "      <th>WindGustDir_N</th>\n",
              "      <th>WindGustDir_NE</th>\n",
              "      <th>WindGustDir_NNE</th>\n",
              "      <th>WindGustDir_NNW</th>\n",
              "      <th>WindGustDir_NW</th>\n",
              "      <th>WindGustDir_S</th>\n",
              "      <th>WindGustDir_SE</th>\n",
              "      <th>WindGustDir_SSE</th>\n",
              "      <th>WindGustDir_SSW</th>\n",
              "      <th>WindGustDir_SW</th>\n",
              "      <th>WindGustDir_W</th>\n",
              "      <th>WindGustDir_WNW</th>\n",
              "      <th>WindGustDir_WSW</th>\n",
              "      <th>WindDir9am_ENE</th>\n",
              "      <th>WindDir9am_ESE</th>\n",
              "      <th>WindDir9am_N</th>\n",
              "      <th>WindDir9am_NE</th>\n",
              "      <th>WindDir9am_NNE</th>\n",
              "      <th>WindDir9am_NNW</th>\n",
              "      <th>WindDir9am_NW</th>\n",
              "      <th>WindDir9am_S</th>\n",
              "      <th>WindDir9am_SE</th>\n",
              "      <th>WindDir9am_SSE</th>\n",
              "      <th>WindDir9am_SSW</th>\n",
              "      <th>WindDir9am_SW</th>\n",
              "      <th>WindDir9am_W</th>\n",
              "      <th>WindDir9am_WNW</th>\n",
              "      <th>WindDir9am_WSW</th>\n",
              "      <th>WindDir3pm_ENE</th>\n",
              "      <th>WindDir3pm_ESE</th>\n",
              "      <th>WindDir3pm_N</th>\n",
              "      <th>WindDir3pm_NE</th>\n",
              "      <th>WindDir3pm_NNE</th>\n",
              "      <th>WindDir3pm_NNW</th>\n",
              "      <th>WindDir3pm_NW</th>\n",
              "      <th>WindDir3pm_S</th>\n",
              "      <th>WindDir3pm_SE</th>\n",
              "      <th>WindDir3pm_SSE</th>\n",
              "      <th>WindDir3pm_SSW</th>\n",
              "      <th>WindDir3pm_SW</th>\n",
              "      <th>WindDir3pm_W</th>\n",
              "      <th>WindDir3pm_WNW</th>\n",
              "      <th>WindDir3pm_WSW</th>\n",
              "      <th>RainToday_Yes</th>\n",
              "    </tr>\n",
              "  </thead>\n",
              "  <tbody>\n",
              "    <tr>\n",
              "      <th>0</th>\n",
              "      <td>2008-12-01</td>\n",
              "      <td>13.4</td>\n",
              "      <td>22.9</td>\n",
              "      <td>0.6</td>\n",
              "      <td>6.2</td>\n",
              "      <td>3.3</td>\n",
              "      <td>44.0</td>\n",
              "      <td>20.0</td>\n",
              "      <td>24.0</td>\n",
              "      <td>71.0</td>\n",
              "      <td>22.0</td>\n",
              "      <td>1007.7</td>\n",
              "      <td>1007.1</td>\n",
              "      <td>8.0</td>\n",
              "      <td>5.0</td>\n",
              "      <td>No</td>\n",
              "      <td>0</td>\n",
              "      <td>0</td>\n",
              "      <td>0</td>\n",
              "      <td>0</td>\n",
              "      <td>0</td>\n",
              "      <td>0</td>\n",
              "      <td>0</td>\n",
              "      <td>0</td>\n",
              "      <td>0</td>\n",
              "      <td>0</td>\n",
              "      <td>0</td>\n",
              "      <td>0</td>\n",
              "      <td>1</td>\n",
              "      <td>0</td>\n",
              "      <td>0</td>\n",
              "      <td>0</td>\n",
              "      <td>0</td>\n",
              "      <td>0</td>\n",
              "      <td>0</td>\n",
              "      <td>0</td>\n",
              "      <td>0</td>\n",
              "      <td>0</td>\n",
              "      <td>0</td>\n",
              "      <td>0</td>\n",
              "      <td>0</td>\n",
              "      <td>0</td>\n",
              "      <td>0</td>\n",
              "      <td>1</td>\n",
              "      <td>0</td>\n",
              "      <td>0</td>\n",
              "      <td>0</td>\n",
              "      <td>0</td>\n",
              "      <td>0</td>\n",
              "      <td>0</td>\n",
              "      <td>0</td>\n",
              "      <td>0</td>\n",
              "      <td>0</td>\n",
              "      <td>0</td>\n",
              "      <td>0</td>\n",
              "      <td>0</td>\n",
              "      <td>0</td>\n",
              "      <td>0</td>\n",
              "      <td>0</td>\n",
              "      <td>1</td>\n",
              "      <td>0</td>\n",
              "      <td>0</td>\n",
              "    </tr>\n",
              "    <tr>\n",
              "      <th>1</th>\n",
              "      <td>2008-12-02</td>\n",
              "      <td>7.4</td>\n",
              "      <td>25.1</td>\n",
              "      <td>0.0</td>\n",
              "      <td>0.4</td>\n",
              "      <td>6.1</td>\n",
              "      <td>44.0</td>\n",
              "      <td>4.0</td>\n",
              "      <td>22.0</td>\n",
              "      <td>44.0</td>\n",
              "      <td>25.0</td>\n",
              "      <td>1010.6</td>\n",
              "      <td>1007.8</td>\n",
              "      <td>5.0</td>\n",
              "      <td>1.0</td>\n",
              "      <td>No</td>\n",
              "      <td>0</td>\n",
              "      <td>0</td>\n",
              "      <td>0</td>\n",
              "      <td>0</td>\n",
              "      <td>0</td>\n",
              "      <td>0</td>\n",
              "      <td>0</td>\n",
              "      <td>0</td>\n",
              "      <td>0</td>\n",
              "      <td>0</td>\n",
              "      <td>0</td>\n",
              "      <td>0</td>\n",
              "      <td>0</td>\n",
              "      <td>1</td>\n",
              "      <td>0</td>\n",
              "      <td>0</td>\n",
              "      <td>0</td>\n",
              "      <td>0</td>\n",
              "      <td>0</td>\n",
              "      <td>0</td>\n",
              "      <td>1</td>\n",
              "      <td>0</td>\n",
              "      <td>0</td>\n",
              "      <td>0</td>\n",
              "      <td>0</td>\n",
              "      <td>0</td>\n",
              "      <td>0</td>\n",
              "      <td>0</td>\n",
              "      <td>0</td>\n",
              "      <td>0</td>\n",
              "      <td>0</td>\n",
              "      <td>0</td>\n",
              "      <td>0</td>\n",
              "      <td>0</td>\n",
              "      <td>0</td>\n",
              "      <td>0</td>\n",
              "      <td>0</td>\n",
              "      <td>0</td>\n",
              "      <td>0</td>\n",
              "      <td>0</td>\n",
              "      <td>0</td>\n",
              "      <td>0</td>\n",
              "      <td>0</td>\n",
              "      <td>0</td>\n",
              "      <td>1</td>\n",
              "      <td>0</td>\n",
              "    </tr>\n",
              "    <tr>\n",
              "      <th>2</th>\n",
              "      <td>2008-12-03</td>\n",
              "      <td>12.9</td>\n",
              "      <td>25.7</td>\n",
              "      <td>0.0</td>\n",
              "      <td>5.8</td>\n",
              "      <td>9.7</td>\n",
              "      <td>46.0</td>\n",
              "      <td>19.0</td>\n",
              "      <td>26.0</td>\n",
              "      <td>38.0</td>\n",
              "      <td>30.0</td>\n",
              "      <td>1007.6</td>\n",
              "      <td>1008.7</td>\n",
              "      <td>1.0</td>\n",
              "      <td>2.0</td>\n",
              "      <td>No</td>\n",
              "      <td>0</td>\n",
              "      <td>0</td>\n",
              "      <td>0</td>\n",
              "      <td>0</td>\n",
              "      <td>0</td>\n",
              "      <td>0</td>\n",
              "      <td>0</td>\n",
              "      <td>0</td>\n",
              "      <td>0</td>\n",
              "      <td>0</td>\n",
              "      <td>0</td>\n",
              "      <td>0</td>\n",
              "      <td>0</td>\n",
              "      <td>0</td>\n",
              "      <td>1</td>\n",
              "      <td>0</td>\n",
              "      <td>0</td>\n",
              "      <td>0</td>\n",
              "      <td>0</td>\n",
              "      <td>0</td>\n",
              "      <td>0</td>\n",
              "      <td>0</td>\n",
              "      <td>0</td>\n",
              "      <td>0</td>\n",
              "      <td>0</td>\n",
              "      <td>0</td>\n",
              "      <td>0</td>\n",
              "      <td>1</td>\n",
              "      <td>0</td>\n",
              "      <td>0</td>\n",
              "      <td>0</td>\n",
              "      <td>0</td>\n",
              "      <td>0</td>\n",
              "      <td>0</td>\n",
              "      <td>0</td>\n",
              "      <td>0</td>\n",
              "      <td>0</td>\n",
              "      <td>0</td>\n",
              "      <td>0</td>\n",
              "      <td>0</td>\n",
              "      <td>0</td>\n",
              "      <td>0</td>\n",
              "      <td>0</td>\n",
              "      <td>0</td>\n",
              "      <td>1</td>\n",
              "      <td>0</td>\n",
              "    </tr>\n",
              "    <tr>\n",
              "      <th>3</th>\n",
              "      <td>2008-12-04</td>\n",
              "      <td>9.2</td>\n",
              "      <td>28.0</td>\n",
              "      <td>0.0</td>\n",
              "      <td>1.4</td>\n",
              "      <td>12.2</td>\n",
              "      <td>24.0</td>\n",
              "      <td>11.0</td>\n",
              "      <td>9.0</td>\n",
              "      <td>45.0</td>\n",
              "      <td>16.0</td>\n",
              "      <td>1017.6</td>\n",
              "      <td>1012.8</td>\n",
              "      <td>7.0</td>\n",
              "      <td>7.0</td>\n",
              "      <td>No</td>\n",
              "      <td>0</td>\n",
              "      <td>0</td>\n",
              "      <td>0</td>\n",
              "      <td>1</td>\n",
              "      <td>0</td>\n",
              "      <td>0</td>\n",
              "      <td>0</td>\n",
              "      <td>0</td>\n",
              "      <td>0</td>\n",
              "      <td>0</td>\n",
              "      <td>0</td>\n",
              "      <td>0</td>\n",
              "      <td>0</td>\n",
              "      <td>0</td>\n",
              "      <td>0</td>\n",
              "      <td>0</td>\n",
              "      <td>0</td>\n",
              "      <td>0</td>\n",
              "      <td>0</td>\n",
              "      <td>0</td>\n",
              "      <td>0</td>\n",
              "      <td>0</td>\n",
              "      <td>0</td>\n",
              "      <td>1</td>\n",
              "      <td>0</td>\n",
              "      <td>0</td>\n",
              "      <td>0</td>\n",
              "      <td>0</td>\n",
              "      <td>0</td>\n",
              "      <td>0</td>\n",
              "      <td>0</td>\n",
              "      <td>0</td>\n",
              "      <td>0</td>\n",
              "      <td>0</td>\n",
              "      <td>0</td>\n",
              "      <td>0</td>\n",
              "      <td>0</td>\n",
              "      <td>0</td>\n",
              "      <td>0</td>\n",
              "      <td>0</td>\n",
              "      <td>0</td>\n",
              "      <td>0</td>\n",
              "      <td>0</td>\n",
              "      <td>0</td>\n",
              "      <td>0</td>\n",
              "      <td>0</td>\n",
              "    </tr>\n",
              "    <tr>\n",
              "      <th>4</th>\n",
              "      <td>2008-12-05</td>\n",
              "      <td>17.5</td>\n",
              "      <td>32.3</td>\n",
              "      <td>1.0</td>\n",
              "      <td>6.6</td>\n",
              "      <td>1.0</td>\n",
              "      <td>41.0</td>\n",
              "      <td>7.0</td>\n",
              "      <td>20.0</td>\n",
              "      <td>82.0</td>\n",
              "      <td>33.0</td>\n",
              "      <td>1010.8</td>\n",
              "      <td>1006.0</td>\n",
              "      <td>7.0</td>\n",
              "      <td>8.0</td>\n",
              "      <td>No</td>\n",
              "      <td>0</td>\n",
              "      <td>0</td>\n",
              "      <td>0</td>\n",
              "      <td>0</td>\n",
              "      <td>0</td>\n",
              "      <td>0</td>\n",
              "      <td>0</td>\n",
              "      <td>0</td>\n",
              "      <td>0</td>\n",
              "      <td>0</td>\n",
              "      <td>0</td>\n",
              "      <td>0</td>\n",
              "      <td>1</td>\n",
              "      <td>0</td>\n",
              "      <td>0</td>\n",
              "      <td>1</td>\n",
              "      <td>0</td>\n",
              "      <td>0</td>\n",
              "      <td>0</td>\n",
              "      <td>0</td>\n",
              "      <td>0</td>\n",
              "      <td>0</td>\n",
              "      <td>0</td>\n",
              "      <td>0</td>\n",
              "      <td>0</td>\n",
              "      <td>0</td>\n",
              "      <td>0</td>\n",
              "      <td>0</td>\n",
              "      <td>0</td>\n",
              "      <td>0</td>\n",
              "      <td>0</td>\n",
              "      <td>0</td>\n",
              "      <td>0</td>\n",
              "      <td>0</td>\n",
              "      <td>0</td>\n",
              "      <td>0</td>\n",
              "      <td>1</td>\n",
              "      <td>0</td>\n",
              "      <td>0</td>\n",
              "      <td>0</td>\n",
              "      <td>0</td>\n",
              "      <td>0</td>\n",
              "      <td>0</td>\n",
              "      <td>0</td>\n",
              "      <td>0</td>\n",
              "      <td>0</td>\n",
              "    </tr>\n",
              "  </tbody>\n",
              "</table>\n",
              "</div>"
            ],
            "text/plain": [
              "        Date  MinTemp  MaxTemp  Rainfall  Evaporation  Sunshine  \\\n",
              "0 2008-12-01     13.4     22.9       0.6          6.2       3.3   \n",
              "1 2008-12-02      7.4     25.1       0.0          0.4       6.1   \n",
              "2 2008-12-03     12.9     25.7       0.0          5.8       9.7   \n",
              "3 2008-12-04      9.2     28.0       0.0          1.4      12.2   \n",
              "4 2008-12-05     17.5     32.3       1.0          6.6       1.0   \n",
              "\n",
              "   WindGustSpeed  WindSpeed9am  WindSpeed3pm  Humidity9am  Humidity3pm  \\\n",
              "0           44.0          20.0          24.0         71.0         22.0   \n",
              "1           44.0           4.0          22.0         44.0         25.0   \n",
              "2           46.0          19.0          26.0         38.0         30.0   \n",
              "3           24.0          11.0           9.0         45.0         16.0   \n",
              "4           41.0           7.0          20.0         82.0         33.0   \n",
              "\n",
              "   Pressure9am  Pressure3pm  Cloud9am  Cloud3pm RainTomorrow  WindGustDir_ENE  \\\n",
              "0       1007.7       1007.1       8.0       5.0           No                0   \n",
              "1       1010.6       1007.8       5.0       1.0           No                0   \n",
              "2       1007.6       1008.7       1.0       2.0           No                0   \n",
              "3       1017.6       1012.8       7.0       7.0           No                0   \n",
              "4       1010.8       1006.0       7.0       8.0           No                0   \n",
              "\n",
              "   WindGustDir_ESE  WindGustDir_N  WindGustDir_NE  WindGustDir_NNE  \\\n",
              "0                0              0               0                0   \n",
              "1                0              0               0                0   \n",
              "2                0              0               0                0   \n",
              "3                0              0               1                0   \n",
              "4                0              0               0                0   \n",
              "\n",
              "   WindGustDir_NNW  WindGustDir_NW  WindGustDir_S  WindGustDir_SE  \\\n",
              "0                0               0              0               0   \n",
              "1                0               0              0               0   \n",
              "2                0               0              0               0   \n",
              "3                0               0              0               0   \n",
              "4                0               0              0               0   \n",
              "\n",
              "   WindGustDir_SSE  WindGustDir_SSW  WindGustDir_SW  WindGustDir_W  \\\n",
              "0                0                0               0              1   \n",
              "1                0                0               0              0   \n",
              "2                0                0               0              0   \n",
              "3                0                0               0              0   \n",
              "4                0                0               0              1   \n",
              "\n",
              "   WindGustDir_WNW  WindGustDir_WSW  WindDir9am_ENE  WindDir9am_ESE  \\\n",
              "0                0                0               0               0   \n",
              "1                1                0               0               0   \n",
              "2                0                1               0               0   \n",
              "3                0                0               0               0   \n",
              "4                0                0               1               0   \n",
              "\n",
              "   WindDir9am_N  WindDir9am_NE  WindDir9am_NNE  WindDir9am_NNW  WindDir9am_NW  \\\n",
              "0             0              0               0               0              0   \n",
              "1             0              0               0               1              0   \n",
              "2             0              0               0               0              0   \n",
              "3             0              0               0               0              0   \n",
              "4             0              0               0               0              0   \n",
              "\n",
              "   WindDir9am_S  WindDir9am_SE  WindDir9am_SSE  WindDir9am_SSW  WindDir9am_SW  \\\n",
              "0             0              0               0               0              0   \n",
              "1             0              0               0               0              0   \n",
              "2             0              0               0               0              0   \n",
              "3             0              1               0               0              0   \n",
              "4             0              0               0               0              0   \n",
              "\n",
              "   WindDir9am_W  WindDir9am_WNW  WindDir9am_WSW  WindDir3pm_ENE  \\\n",
              "0             1               0               0               0   \n",
              "1             0               0               0               0   \n",
              "2             1               0               0               0   \n",
              "3             0               0               0               0   \n",
              "4             0               0               0               0   \n",
              "\n",
              "   WindDir3pm_ESE  WindDir3pm_N  WindDir3pm_NE  WindDir3pm_NNE  \\\n",
              "0               0             0              0               0   \n",
              "1               0             0              0               0   \n",
              "2               0             0              0               0   \n",
              "3               0             0              0               0   \n",
              "4               0             0              0               0   \n",
              "\n",
              "   WindDir3pm_NNW  WindDir3pm_NW  WindDir3pm_S  WindDir3pm_SE  WindDir3pm_SSE  \\\n",
              "0               0              0             0              0               0   \n",
              "1               0              0             0              0               0   \n",
              "2               0              0             0              0               0   \n",
              "3               0              0             0              0               0   \n",
              "4               0              1             0              0               0   \n",
              "\n",
              "   WindDir3pm_SSW  WindDir3pm_SW  WindDir3pm_W  WindDir3pm_WNW  \\\n",
              "0               0              0             0               1   \n",
              "1               0              0             0               0   \n",
              "2               0              0             0               0   \n",
              "3               0              0             0               0   \n",
              "4               0              0             0               0   \n",
              "\n",
              "   WindDir3pm_WSW  RainToday_Yes  \n",
              "0               0              0  \n",
              "1               1              0  \n",
              "2               1              0  \n",
              "3               0              0  \n",
              "4               0              0  "
            ]
          },
          "metadata": {},
          "execution_count": 47
        }
      ]
    },
    {
      "cell_type": "code",
      "metadata": {
        "colab": {
          "base_uri": "https://localhost:8080/"
        },
        "id": "xxZUOruZOaw2",
        "outputId": "e8eac8a5-9562-4e97-82cd-778261d9ef61"
      },
      "source": [
        "data.shape"
      ],
      "execution_count": 48,
      "outputs": [
        {
          "output_type": "execute_result",
          "data": {
            "text/plain": [
              "(142193, 62)"
            ]
          },
          "metadata": {},
          "execution_count": 48
        }
      ]
    },
    {
      "cell_type": "markdown",
      "metadata": {
        "id": "Cgll_Ubg3tEj"
      },
      "source": [
        "**Target** value is categorical it is necessary to convert to numerical"
      ]
    },
    {
      "cell_type": "code",
      "metadata": {
        "id": "Wch8Uvtz1O93"
      },
      "source": [
        "le = preprocessing.LabelEncoder()\n",
        "data['RainTomorrow'] = le.fit_transform(data['RainTomorrow'])"
      ],
      "execution_count": 49,
      "outputs": []
    },
    {
      "cell_type": "code",
      "metadata": {
        "colab": {
          "base_uri": "https://localhost:8080/",
          "height": 305
        },
        "id": "TD61ez1_HvSz",
        "outputId": "3f359e28-b9e1-48ac-80e1-cce97fc15646"
      },
      "source": [
        "data.head()"
      ],
      "execution_count": 50,
      "outputs": [
        {
          "output_type": "execute_result",
          "data": {
            "text/html": [
              "<div>\n",
              "<style scoped>\n",
              "    .dataframe tbody tr th:only-of-type {\n",
              "        vertical-align: middle;\n",
              "    }\n",
              "\n",
              "    .dataframe tbody tr th {\n",
              "        vertical-align: top;\n",
              "    }\n",
              "\n",
              "    .dataframe thead th {\n",
              "        text-align: right;\n",
              "    }\n",
              "</style>\n",
              "<table border=\"1\" class=\"dataframe\">\n",
              "  <thead>\n",
              "    <tr style=\"text-align: right;\">\n",
              "      <th></th>\n",
              "      <th>Date</th>\n",
              "      <th>MinTemp</th>\n",
              "      <th>MaxTemp</th>\n",
              "      <th>Rainfall</th>\n",
              "      <th>Evaporation</th>\n",
              "      <th>Sunshine</th>\n",
              "      <th>WindGustSpeed</th>\n",
              "      <th>WindSpeed9am</th>\n",
              "      <th>WindSpeed3pm</th>\n",
              "      <th>Humidity9am</th>\n",
              "      <th>Humidity3pm</th>\n",
              "      <th>Pressure9am</th>\n",
              "      <th>Pressure3pm</th>\n",
              "      <th>Cloud9am</th>\n",
              "      <th>Cloud3pm</th>\n",
              "      <th>RainTomorrow</th>\n",
              "      <th>WindGustDir_ENE</th>\n",
              "      <th>WindGustDir_ESE</th>\n",
              "      <th>WindGustDir_N</th>\n",
              "      <th>WindGustDir_NE</th>\n",
              "      <th>WindGustDir_NNE</th>\n",
              "      <th>WindGustDir_NNW</th>\n",
              "      <th>WindGustDir_NW</th>\n",
              "      <th>WindGustDir_S</th>\n",
              "      <th>WindGustDir_SE</th>\n",
              "      <th>WindGustDir_SSE</th>\n",
              "      <th>WindGustDir_SSW</th>\n",
              "      <th>WindGustDir_SW</th>\n",
              "      <th>WindGustDir_W</th>\n",
              "      <th>WindGustDir_WNW</th>\n",
              "      <th>WindGustDir_WSW</th>\n",
              "      <th>WindDir9am_ENE</th>\n",
              "      <th>WindDir9am_ESE</th>\n",
              "      <th>WindDir9am_N</th>\n",
              "      <th>WindDir9am_NE</th>\n",
              "      <th>WindDir9am_NNE</th>\n",
              "      <th>WindDir9am_NNW</th>\n",
              "      <th>WindDir9am_NW</th>\n",
              "      <th>WindDir9am_S</th>\n",
              "      <th>WindDir9am_SE</th>\n",
              "      <th>WindDir9am_SSE</th>\n",
              "      <th>WindDir9am_SSW</th>\n",
              "      <th>WindDir9am_SW</th>\n",
              "      <th>WindDir9am_W</th>\n",
              "      <th>WindDir9am_WNW</th>\n",
              "      <th>WindDir9am_WSW</th>\n",
              "      <th>WindDir3pm_ENE</th>\n",
              "      <th>WindDir3pm_ESE</th>\n",
              "      <th>WindDir3pm_N</th>\n",
              "      <th>WindDir3pm_NE</th>\n",
              "      <th>WindDir3pm_NNE</th>\n",
              "      <th>WindDir3pm_NNW</th>\n",
              "      <th>WindDir3pm_NW</th>\n",
              "      <th>WindDir3pm_S</th>\n",
              "      <th>WindDir3pm_SE</th>\n",
              "      <th>WindDir3pm_SSE</th>\n",
              "      <th>WindDir3pm_SSW</th>\n",
              "      <th>WindDir3pm_SW</th>\n",
              "      <th>WindDir3pm_W</th>\n",
              "      <th>WindDir3pm_WNW</th>\n",
              "      <th>WindDir3pm_WSW</th>\n",
              "      <th>RainToday_Yes</th>\n",
              "    </tr>\n",
              "  </thead>\n",
              "  <tbody>\n",
              "    <tr>\n",
              "      <th>0</th>\n",
              "      <td>2008-12-01</td>\n",
              "      <td>13.4</td>\n",
              "      <td>22.9</td>\n",
              "      <td>0.6</td>\n",
              "      <td>6.2</td>\n",
              "      <td>3.3</td>\n",
              "      <td>44.0</td>\n",
              "      <td>20.0</td>\n",
              "      <td>24.0</td>\n",
              "      <td>71.0</td>\n",
              "      <td>22.0</td>\n",
              "      <td>1007.7</td>\n",
              "      <td>1007.1</td>\n",
              "      <td>8.0</td>\n",
              "      <td>5.0</td>\n",
              "      <td>0</td>\n",
              "      <td>0</td>\n",
              "      <td>0</td>\n",
              "      <td>0</td>\n",
              "      <td>0</td>\n",
              "      <td>0</td>\n",
              "      <td>0</td>\n",
              "      <td>0</td>\n",
              "      <td>0</td>\n",
              "      <td>0</td>\n",
              "      <td>0</td>\n",
              "      <td>0</td>\n",
              "      <td>0</td>\n",
              "      <td>1</td>\n",
              "      <td>0</td>\n",
              "      <td>0</td>\n",
              "      <td>0</td>\n",
              "      <td>0</td>\n",
              "      <td>0</td>\n",
              "      <td>0</td>\n",
              "      <td>0</td>\n",
              "      <td>0</td>\n",
              "      <td>0</td>\n",
              "      <td>0</td>\n",
              "      <td>0</td>\n",
              "      <td>0</td>\n",
              "      <td>0</td>\n",
              "      <td>0</td>\n",
              "      <td>1</td>\n",
              "      <td>0</td>\n",
              "      <td>0</td>\n",
              "      <td>0</td>\n",
              "      <td>0</td>\n",
              "      <td>0</td>\n",
              "      <td>0</td>\n",
              "      <td>0</td>\n",
              "      <td>0</td>\n",
              "      <td>0</td>\n",
              "      <td>0</td>\n",
              "      <td>0</td>\n",
              "      <td>0</td>\n",
              "      <td>0</td>\n",
              "      <td>0</td>\n",
              "      <td>0</td>\n",
              "      <td>1</td>\n",
              "      <td>0</td>\n",
              "      <td>0</td>\n",
              "    </tr>\n",
              "    <tr>\n",
              "      <th>1</th>\n",
              "      <td>2008-12-02</td>\n",
              "      <td>7.4</td>\n",
              "      <td>25.1</td>\n",
              "      <td>0.0</td>\n",
              "      <td>0.4</td>\n",
              "      <td>6.1</td>\n",
              "      <td>44.0</td>\n",
              "      <td>4.0</td>\n",
              "      <td>22.0</td>\n",
              "      <td>44.0</td>\n",
              "      <td>25.0</td>\n",
              "      <td>1010.6</td>\n",
              "      <td>1007.8</td>\n",
              "      <td>5.0</td>\n",
              "      <td>1.0</td>\n",
              "      <td>0</td>\n",
              "      <td>0</td>\n",
              "      <td>0</td>\n",
              "      <td>0</td>\n",
              "      <td>0</td>\n",
              "      <td>0</td>\n",
              "      <td>0</td>\n",
              "      <td>0</td>\n",
              "      <td>0</td>\n",
              "      <td>0</td>\n",
              "      <td>0</td>\n",
              "      <td>0</td>\n",
              "      <td>0</td>\n",
              "      <td>0</td>\n",
              "      <td>1</td>\n",
              "      <td>0</td>\n",
              "      <td>0</td>\n",
              "      <td>0</td>\n",
              "      <td>0</td>\n",
              "      <td>0</td>\n",
              "      <td>0</td>\n",
              "      <td>1</td>\n",
              "      <td>0</td>\n",
              "      <td>0</td>\n",
              "      <td>0</td>\n",
              "      <td>0</td>\n",
              "      <td>0</td>\n",
              "      <td>0</td>\n",
              "      <td>0</td>\n",
              "      <td>0</td>\n",
              "      <td>0</td>\n",
              "      <td>0</td>\n",
              "      <td>0</td>\n",
              "      <td>0</td>\n",
              "      <td>0</td>\n",
              "      <td>0</td>\n",
              "      <td>0</td>\n",
              "      <td>0</td>\n",
              "      <td>0</td>\n",
              "      <td>0</td>\n",
              "      <td>0</td>\n",
              "      <td>0</td>\n",
              "      <td>0</td>\n",
              "      <td>0</td>\n",
              "      <td>0</td>\n",
              "      <td>1</td>\n",
              "      <td>0</td>\n",
              "    </tr>\n",
              "    <tr>\n",
              "      <th>2</th>\n",
              "      <td>2008-12-03</td>\n",
              "      <td>12.9</td>\n",
              "      <td>25.7</td>\n",
              "      <td>0.0</td>\n",
              "      <td>5.8</td>\n",
              "      <td>9.7</td>\n",
              "      <td>46.0</td>\n",
              "      <td>19.0</td>\n",
              "      <td>26.0</td>\n",
              "      <td>38.0</td>\n",
              "      <td>30.0</td>\n",
              "      <td>1007.6</td>\n",
              "      <td>1008.7</td>\n",
              "      <td>1.0</td>\n",
              "      <td>2.0</td>\n",
              "      <td>0</td>\n",
              "      <td>0</td>\n",
              "      <td>0</td>\n",
              "      <td>0</td>\n",
              "      <td>0</td>\n",
              "      <td>0</td>\n",
              "      <td>0</td>\n",
              "      <td>0</td>\n",
              "      <td>0</td>\n",
              "      <td>0</td>\n",
              "      <td>0</td>\n",
              "      <td>0</td>\n",
              "      <td>0</td>\n",
              "      <td>0</td>\n",
              "      <td>0</td>\n",
              "      <td>1</td>\n",
              "      <td>0</td>\n",
              "      <td>0</td>\n",
              "      <td>0</td>\n",
              "      <td>0</td>\n",
              "      <td>0</td>\n",
              "      <td>0</td>\n",
              "      <td>0</td>\n",
              "      <td>0</td>\n",
              "      <td>0</td>\n",
              "      <td>0</td>\n",
              "      <td>0</td>\n",
              "      <td>0</td>\n",
              "      <td>1</td>\n",
              "      <td>0</td>\n",
              "      <td>0</td>\n",
              "      <td>0</td>\n",
              "      <td>0</td>\n",
              "      <td>0</td>\n",
              "      <td>0</td>\n",
              "      <td>0</td>\n",
              "      <td>0</td>\n",
              "      <td>0</td>\n",
              "      <td>0</td>\n",
              "      <td>0</td>\n",
              "      <td>0</td>\n",
              "      <td>0</td>\n",
              "      <td>0</td>\n",
              "      <td>0</td>\n",
              "      <td>0</td>\n",
              "      <td>1</td>\n",
              "      <td>0</td>\n",
              "    </tr>\n",
              "    <tr>\n",
              "      <th>3</th>\n",
              "      <td>2008-12-04</td>\n",
              "      <td>9.2</td>\n",
              "      <td>28.0</td>\n",
              "      <td>0.0</td>\n",
              "      <td>1.4</td>\n",
              "      <td>12.2</td>\n",
              "      <td>24.0</td>\n",
              "      <td>11.0</td>\n",
              "      <td>9.0</td>\n",
              "      <td>45.0</td>\n",
              "      <td>16.0</td>\n",
              "      <td>1017.6</td>\n",
              "      <td>1012.8</td>\n",
              "      <td>7.0</td>\n",
              "      <td>7.0</td>\n",
              "      <td>0</td>\n",
              "      <td>0</td>\n",
              "      <td>0</td>\n",
              "      <td>0</td>\n",
              "      <td>1</td>\n",
              "      <td>0</td>\n",
              "      <td>0</td>\n",
              "      <td>0</td>\n",
              "      <td>0</td>\n",
              "      <td>0</td>\n",
              "      <td>0</td>\n",
              "      <td>0</td>\n",
              "      <td>0</td>\n",
              "      <td>0</td>\n",
              "      <td>0</td>\n",
              "      <td>0</td>\n",
              "      <td>0</td>\n",
              "      <td>0</td>\n",
              "      <td>0</td>\n",
              "      <td>0</td>\n",
              "      <td>0</td>\n",
              "      <td>0</td>\n",
              "      <td>0</td>\n",
              "      <td>0</td>\n",
              "      <td>1</td>\n",
              "      <td>0</td>\n",
              "      <td>0</td>\n",
              "      <td>0</td>\n",
              "      <td>0</td>\n",
              "      <td>0</td>\n",
              "      <td>0</td>\n",
              "      <td>0</td>\n",
              "      <td>0</td>\n",
              "      <td>0</td>\n",
              "      <td>0</td>\n",
              "      <td>0</td>\n",
              "      <td>0</td>\n",
              "      <td>0</td>\n",
              "      <td>0</td>\n",
              "      <td>0</td>\n",
              "      <td>0</td>\n",
              "      <td>0</td>\n",
              "      <td>0</td>\n",
              "      <td>0</td>\n",
              "      <td>0</td>\n",
              "      <td>0</td>\n",
              "      <td>0</td>\n",
              "    </tr>\n",
              "    <tr>\n",
              "      <th>4</th>\n",
              "      <td>2008-12-05</td>\n",
              "      <td>17.5</td>\n",
              "      <td>32.3</td>\n",
              "      <td>1.0</td>\n",
              "      <td>6.6</td>\n",
              "      <td>1.0</td>\n",
              "      <td>41.0</td>\n",
              "      <td>7.0</td>\n",
              "      <td>20.0</td>\n",
              "      <td>82.0</td>\n",
              "      <td>33.0</td>\n",
              "      <td>1010.8</td>\n",
              "      <td>1006.0</td>\n",
              "      <td>7.0</td>\n",
              "      <td>8.0</td>\n",
              "      <td>0</td>\n",
              "      <td>0</td>\n",
              "      <td>0</td>\n",
              "      <td>0</td>\n",
              "      <td>0</td>\n",
              "      <td>0</td>\n",
              "      <td>0</td>\n",
              "      <td>0</td>\n",
              "      <td>0</td>\n",
              "      <td>0</td>\n",
              "      <td>0</td>\n",
              "      <td>0</td>\n",
              "      <td>0</td>\n",
              "      <td>1</td>\n",
              "      <td>0</td>\n",
              "      <td>0</td>\n",
              "      <td>1</td>\n",
              "      <td>0</td>\n",
              "      <td>0</td>\n",
              "      <td>0</td>\n",
              "      <td>0</td>\n",
              "      <td>0</td>\n",
              "      <td>0</td>\n",
              "      <td>0</td>\n",
              "      <td>0</td>\n",
              "      <td>0</td>\n",
              "      <td>0</td>\n",
              "      <td>0</td>\n",
              "      <td>0</td>\n",
              "      <td>0</td>\n",
              "      <td>0</td>\n",
              "      <td>0</td>\n",
              "      <td>0</td>\n",
              "      <td>0</td>\n",
              "      <td>0</td>\n",
              "      <td>0</td>\n",
              "      <td>0</td>\n",
              "      <td>1</td>\n",
              "      <td>0</td>\n",
              "      <td>0</td>\n",
              "      <td>0</td>\n",
              "      <td>0</td>\n",
              "      <td>0</td>\n",
              "      <td>0</td>\n",
              "      <td>0</td>\n",
              "      <td>0</td>\n",
              "      <td>0</td>\n",
              "    </tr>\n",
              "  </tbody>\n",
              "</table>\n",
              "</div>"
            ],
            "text/plain": [
              "        Date  MinTemp  MaxTemp  Rainfall  Evaporation  Sunshine  \\\n",
              "0 2008-12-01     13.4     22.9       0.6          6.2       3.3   \n",
              "1 2008-12-02      7.4     25.1       0.0          0.4       6.1   \n",
              "2 2008-12-03     12.9     25.7       0.0          5.8       9.7   \n",
              "3 2008-12-04      9.2     28.0       0.0          1.4      12.2   \n",
              "4 2008-12-05     17.5     32.3       1.0          6.6       1.0   \n",
              "\n",
              "   WindGustSpeed  WindSpeed9am  WindSpeed3pm  Humidity9am  Humidity3pm  \\\n",
              "0           44.0          20.0          24.0         71.0         22.0   \n",
              "1           44.0           4.0          22.0         44.0         25.0   \n",
              "2           46.0          19.0          26.0         38.0         30.0   \n",
              "3           24.0          11.0           9.0         45.0         16.0   \n",
              "4           41.0           7.0          20.0         82.0         33.0   \n",
              "\n",
              "   Pressure9am  Pressure3pm  Cloud9am  Cloud3pm  RainTomorrow  \\\n",
              "0       1007.7       1007.1       8.0       5.0             0   \n",
              "1       1010.6       1007.8       5.0       1.0             0   \n",
              "2       1007.6       1008.7       1.0       2.0             0   \n",
              "3       1017.6       1012.8       7.0       7.0             0   \n",
              "4       1010.8       1006.0       7.0       8.0             0   \n",
              "\n",
              "   WindGustDir_ENE  WindGustDir_ESE  WindGustDir_N  WindGustDir_NE  \\\n",
              "0                0                0              0               0   \n",
              "1                0                0              0               0   \n",
              "2                0                0              0               0   \n",
              "3                0                0              0               1   \n",
              "4                0                0              0               0   \n",
              "\n",
              "   WindGustDir_NNE  WindGustDir_NNW  WindGustDir_NW  WindGustDir_S  \\\n",
              "0                0                0               0              0   \n",
              "1                0                0               0              0   \n",
              "2                0                0               0              0   \n",
              "3                0                0               0              0   \n",
              "4                0                0               0              0   \n",
              "\n",
              "   WindGustDir_SE  WindGustDir_SSE  WindGustDir_SSW  WindGustDir_SW  \\\n",
              "0               0                0                0               0   \n",
              "1               0                0                0               0   \n",
              "2               0                0                0               0   \n",
              "3               0                0                0               0   \n",
              "4               0                0                0               0   \n",
              "\n",
              "   WindGustDir_W  WindGustDir_WNW  WindGustDir_WSW  WindDir9am_ENE  \\\n",
              "0              1                0                0               0   \n",
              "1              0                1                0               0   \n",
              "2              0                0                1               0   \n",
              "3              0                0                0               0   \n",
              "4              1                0                0               1   \n",
              "\n",
              "   WindDir9am_ESE  WindDir9am_N  WindDir9am_NE  WindDir9am_NNE  \\\n",
              "0               0             0              0               0   \n",
              "1               0             0              0               0   \n",
              "2               0             0              0               0   \n",
              "3               0             0              0               0   \n",
              "4               0             0              0               0   \n",
              "\n",
              "   WindDir9am_NNW  WindDir9am_NW  WindDir9am_S  WindDir9am_SE  WindDir9am_SSE  \\\n",
              "0               0              0             0              0               0   \n",
              "1               1              0             0              0               0   \n",
              "2               0              0             0              0               0   \n",
              "3               0              0             0              1               0   \n",
              "4               0              0             0              0               0   \n",
              "\n",
              "   WindDir9am_SSW  WindDir9am_SW  WindDir9am_W  WindDir9am_WNW  \\\n",
              "0               0              0             1               0   \n",
              "1               0              0             0               0   \n",
              "2               0              0             1               0   \n",
              "3               0              0             0               0   \n",
              "4               0              0             0               0   \n",
              "\n",
              "   WindDir9am_WSW  WindDir3pm_ENE  WindDir3pm_ESE  WindDir3pm_N  \\\n",
              "0               0               0               0             0   \n",
              "1               0               0               0             0   \n",
              "2               0               0               0             0   \n",
              "3               0               0               0             0   \n",
              "4               0               0               0             0   \n",
              "\n",
              "   WindDir3pm_NE  WindDir3pm_NNE  WindDir3pm_NNW  WindDir3pm_NW  WindDir3pm_S  \\\n",
              "0              0               0               0              0             0   \n",
              "1              0               0               0              0             0   \n",
              "2              0               0               0              0             0   \n",
              "3              0               0               0              0             0   \n",
              "4              0               0               0              1             0   \n",
              "\n",
              "   WindDir3pm_SE  WindDir3pm_SSE  WindDir3pm_SSW  WindDir3pm_SW  WindDir3pm_W  \\\n",
              "0              0               0               0              0             0   \n",
              "1              0               0               0              0             0   \n",
              "2              0               0               0              0             0   \n",
              "3              0               0               0              0             0   \n",
              "4              0               0               0              0             0   \n",
              "\n",
              "   WindDir3pm_WNW  WindDir3pm_WSW  RainToday_Yes  \n",
              "0               1               0              0  \n",
              "1               0               1              0  \n",
              "2               0               1              0  \n",
              "3               0               0              0  \n",
              "4               0               0              0  "
            ]
          },
          "metadata": {},
          "execution_count": 50
        }
      ]
    },
    {
      "cell_type": "markdown",
      "metadata": {
        "id": "NjH5Lbzu4Eto"
      },
      "source": [
        "## 4. Feature engineering\n",
        "\n",
        " 1. create feature \n"
      ]
    },
    {
      "cell_type": "code",
      "metadata": {
        "id": "wUbQ1SOUpN3E"
      },
      "source": [
        "#X_data['Year']=X_data['Date'].dt.strftime(\"%Y\")\n",
        "data['Month']=data['Date'].dt.strftime(\"%m\")\n",
        "#X_data['Dayofmonth']=X_data['Date'].dt.strftime(\"%d\")"
      ],
      "execution_count": 51,
      "outputs": []
    },
    {
      "cell_type": "code",
      "metadata": {
        "id": "-AgnVpGrpOCH"
      },
      "source": [
        "data['season'] = (data['Date'].dt.month%12 + 3)//3\n",
        "\n",
        "seasons = {\n",
        "             1: 'Winter',\n",
        "             2: 'Spring',\n",
        "             3: 'Summer',\n",
        "             4: 'Autumn'\n",
        "}\n",
        "\n",
        "data['season_name'] = data['season'].map(seasons)"
      ],
      "execution_count": 52,
      "outputs": []
    },
    {
      "cell_type": "markdown",
      "metadata": {
        "id": "NQ2XVK2i4a2y"
      },
      "source": [
        " Drop 'Date' , 'season_name'"
      ]
    },
    {
      "cell_type": "code",
      "metadata": {
        "id": "o1AwuL4S4Vm0"
      },
      "source": [
        "data = data.drop(['Date', 'season_name'], axis=1)"
      ],
      "execution_count": 53,
      "outputs": []
    },
    {
      "cell_type": "code",
      "metadata": {
        "colab": {
          "base_uri": "https://localhost:8080/",
          "height": 222
        },
        "id": "O7bDS-Ta7rYO",
        "outputId": "ded156ce-79db-47dc-e53f-b1317e0fd112"
      },
      "source": [
        "data.head()"
      ],
      "execution_count": 54,
      "outputs": [
        {
          "output_type": "execute_result",
          "data": {
            "text/html": [
              "<div>\n",
              "<style scoped>\n",
              "    .dataframe tbody tr th:only-of-type {\n",
              "        vertical-align: middle;\n",
              "    }\n",
              "\n",
              "    .dataframe tbody tr th {\n",
              "        vertical-align: top;\n",
              "    }\n",
              "\n",
              "    .dataframe thead th {\n",
              "        text-align: right;\n",
              "    }\n",
              "</style>\n",
              "<table border=\"1\" class=\"dataframe\">\n",
              "  <thead>\n",
              "    <tr style=\"text-align: right;\">\n",
              "      <th></th>\n",
              "      <th>MinTemp</th>\n",
              "      <th>MaxTemp</th>\n",
              "      <th>Rainfall</th>\n",
              "      <th>Evaporation</th>\n",
              "      <th>Sunshine</th>\n",
              "      <th>WindGustSpeed</th>\n",
              "      <th>WindSpeed9am</th>\n",
              "      <th>WindSpeed3pm</th>\n",
              "      <th>Humidity9am</th>\n",
              "      <th>Humidity3pm</th>\n",
              "      <th>Pressure9am</th>\n",
              "      <th>Pressure3pm</th>\n",
              "      <th>Cloud9am</th>\n",
              "      <th>Cloud3pm</th>\n",
              "      <th>RainTomorrow</th>\n",
              "      <th>WindGustDir_ENE</th>\n",
              "      <th>WindGustDir_ESE</th>\n",
              "      <th>WindGustDir_N</th>\n",
              "      <th>WindGustDir_NE</th>\n",
              "      <th>WindGustDir_NNE</th>\n",
              "      <th>WindGustDir_NNW</th>\n",
              "      <th>WindGustDir_NW</th>\n",
              "      <th>WindGustDir_S</th>\n",
              "      <th>WindGustDir_SE</th>\n",
              "      <th>WindGustDir_SSE</th>\n",
              "      <th>WindGustDir_SSW</th>\n",
              "      <th>WindGustDir_SW</th>\n",
              "      <th>WindGustDir_W</th>\n",
              "      <th>WindGustDir_WNW</th>\n",
              "      <th>WindGustDir_WSW</th>\n",
              "      <th>WindDir9am_ENE</th>\n",
              "      <th>WindDir9am_ESE</th>\n",
              "      <th>WindDir9am_N</th>\n",
              "      <th>WindDir9am_NE</th>\n",
              "      <th>WindDir9am_NNE</th>\n",
              "      <th>WindDir9am_NNW</th>\n",
              "      <th>WindDir9am_NW</th>\n",
              "      <th>WindDir9am_S</th>\n",
              "      <th>WindDir9am_SE</th>\n",
              "      <th>WindDir9am_SSE</th>\n",
              "      <th>WindDir9am_SSW</th>\n",
              "      <th>WindDir9am_SW</th>\n",
              "      <th>WindDir9am_W</th>\n",
              "      <th>WindDir9am_WNW</th>\n",
              "      <th>WindDir9am_WSW</th>\n",
              "      <th>WindDir3pm_ENE</th>\n",
              "      <th>WindDir3pm_ESE</th>\n",
              "      <th>WindDir3pm_N</th>\n",
              "      <th>WindDir3pm_NE</th>\n",
              "      <th>WindDir3pm_NNE</th>\n",
              "      <th>WindDir3pm_NNW</th>\n",
              "      <th>WindDir3pm_NW</th>\n",
              "      <th>WindDir3pm_S</th>\n",
              "      <th>WindDir3pm_SE</th>\n",
              "      <th>WindDir3pm_SSE</th>\n",
              "      <th>WindDir3pm_SSW</th>\n",
              "      <th>WindDir3pm_SW</th>\n",
              "      <th>WindDir3pm_W</th>\n",
              "      <th>WindDir3pm_WNW</th>\n",
              "      <th>WindDir3pm_WSW</th>\n",
              "      <th>RainToday_Yes</th>\n",
              "      <th>Month</th>\n",
              "      <th>season</th>\n",
              "    </tr>\n",
              "  </thead>\n",
              "  <tbody>\n",
              "    <tr>\n",
              "      <th>0</th>\n",
              "      <td>13.4</td>\n",
              "      <td>22.9</td>\n",
              "      <td>0.6</td>\n",
              "      <td>6.2</td>\n",
              "      <td>3.3</td>\n",
              "      <td>44.0</td>\n",
              "      <td>20.0</td>\n",
              "      <td>24.0</td>\n",
              "      <td>71.0</td>\n",
              "      <td>22.0</td>\n",
              "      <td>1007.7</td>\n",
              "      <td>1007.1</td>\n",
              "      <td>8.0</td>\n",
              "      <td>5.0</td>\n",
              "      <td>0</td>\n",
              "      <td>0</td>\n",
              "      <td>0</td>\n",
              "      <td>0</td>\n",
              "      <td>0</td>\n",
              "      <td>0</td>\n",
              "      <td>0</td>\n",
              "      <td>0</td>\n",
              "      <td>0</td>\n",
              "      <td>0</td>\n",
              "      <td>0</td>\n",
              "      <td>0</td>\n",
              "      <td>0</td>\n",
              "      <td>1</td>\n",
              "      <td>0</td>\n",
              "      <td>0</td>\n",
              "      <td>0</td>\n",
              "      <td>0</td>\n",
              "      <td>0</td>\n",
              "      <td>0</td>\n",
              "      <td>0</td>\n",
              "      <td>0</td>\n",
              "      <td>0</td>\n",
              "      <td>0</td>\n",
              "      <td>0</td>\n",
              "      <td>0</td>\n",
              "      <td>0</td>\n",
              "      <td>0</td>\n",
              "      <td>1</td>\n",
              "      <td>0</td>\n",
              "      <td>0</td>\n",
              "      <td>0</td>\n",
              "      <td>0</td>\n",
              "      <td>0</td>\n",
              "      <td>0</td>\n",
              "      <td>0</td>\n",
              "      <td>0</td>\n",
              "      <td>0</td>\n",
              "      <td>0</td>\n",
              "      <td>0</td>\n",
              "      <td>0</td>\n",
              "      <td>0</td>\n",
              "      <td>0</td>\n",
              "      <td>0</td>\n",
              "      <td>1</td>\n",
              "      <td>0</td>\n",
              "      <td>0</td>\n",
              "      <td>12</td>\n",
              "      <td>1</td>\n",
              "    </tr>\n",
              "    <tr>\n",
              "      <th>1</th>\n",
              "      <td>7.4</td>\n",
              "      <td>25.1</td>\n",
              "      <td>0.0</td>\n",
              "      <td>0.4</td>\n",
              "      <td>6.1</td>\n",
              "      <td>44.0</td>\n",
              "      <td>4.0</td>\n",
              "      <td>22.0</td>\n",
              "      <td>44.0</td>\n",
              "      <td>25.0</td>\n",
              "      <td>1010.6</td>\n",
              "      <td>1007.8</td>\n",
              "      <td>5.0</td>\n",
              "      <td>1.0</td>\n",
              "      <td>0</td>\n",
              "      <td>0</td>\n",
              "      <td>0</td>\n",
              "      <td>0</td>\n",
              "      <td>0</td>\n",
              "      <td>0</td>\n",
              "      <td>0</td>\n",
              "      <td>0</td>\n",
              "      <td>0</td>\n",
              "      <td>0</td>\n",
              "      <td>0</td>\n",
              "      <td>0</td>\n",
              "      <td>0</td>\n",
              "      <td>0</td>\n",
              "      <td>1</td>\n",
              "      <td>0</td>\n",
              "      <td>0</td>\n",
              "      <td>0</td>\n",
              "      <td>0</td>\n",
              "      <td>0</td>\n",
              "      <td>0</td>\n",
              "      <td>1</td>\n",
              "      <td>0</td>\n",
              "      <td>0</td>\n",
              "      <td>0</td>\n",
              "      <td>0</td>\n",
              "      <td>0</td>\n",
              "      <td>0</td>\n",
              "      <td>0</td>\n",
              "      <td>0</td>\n",
              "      <td>0</td>\n",
              "      <td>0</td>\n",
              "      <td>0</td>\n",
              "      <td>0</td>\n",
              "      <td>0</td>\n",
              "      <td>0</td>\n",
              "      <td>0</td>\n",
              "      <td>0</td>\n",
              "      <td>0</td>\n",
              "      <td>0</td>\n",
              "      <td>0</td>\n",
              "      <td>0</td>\n",
              "      <td>0</td>\n",
              "      <td>0</td>\n",
              "      <td>0</td>\n",
              "      <td>1</td>\n",
              "      <td>0</td>\n",
              "      <td>12</td>\n",
              "      <td>1</td>\n",
              "    </tr>\n",
              "    <tr>\n",
              "      <th>2</th>\n",
              "      <td>12.9</td>\n",
              "      <td>25.7</td>\n",
              "      <td>0.0</td>\n",
              "      <td>5.8</td>\n",
              "      <td>9.7</td>\n",
              "      <td>46.0</td>\n",
              "      <td>19.0</td>\n",
              "      <td>26.0</td>\n",
              "      <td>38.0</td>\n",
              "      <td>30.0</td>\n",
              "      <td>1007.6</td>\n",
              "      <td>1008.7</td>\n",
              "      <td>1.0</td>\n",
              "      <td>2.0</td>\n",
              "      <td>0</td>\n",
              "      <td>0</td>\n",
              "      <td>0</td>\n",
              "      <td>0</td>\n",
              "      <td>0</td>\n",
              "      <td>0</td>\n",
              "      <td>0</td>\n",
              "      <td>0</td>\n",
              "      <td>0</td>\n",
              "      <td>0</td>\n",
              "      <td>0</td>\n",
              "      <td>0</td>\n",
              "      <td>0</td>\n",
              "      <td>0</td>\n",
              "      <td>0</td>\n",
              "      <td>1</td>\n",
              "      <td>0</td>\n",
              "      <td>0</td>\n",
              "      <td>0</td>\n",
              "      <td>0</td>\n",
              "      <td>0</td>\n",
              "      <td>0</td>\n",
              "      <td>0</td>\n",
              "      <td>0</td>\n",
              "      <td>0</td>\n",
              "      <td>0</td>\n",
              "      <td>0</td>\n",
              "      <td>0</td>\n",
              "      <td>1</td>\n",
              "      <td>0</td>\n",
              "      <td>0</td>\n",
              "      <td>0</td>\n",
              "      <td>0</td>\n",
              "      <td>0</td>\n",
              "      <td>0</td>\n",
              "      <td>0</td>\n",
              "      <td>0</td>\n",
              "      <td>0</td>\n",
              "      <td>0</td>\n",
              "      <td>0</td>\n",
              "      <td>0</td>\n",
              "      <td>0</td>\n",
              "      <td>0</td>\n",
              "      <td>0</td>\n",
              "      <td>0</td>\n",
              "      <td>1</td>\n",
              "      <td>0</td>\n",
              "      <td>12</td>\n",
              "      <td>1</td>\n",
              "    </tr>\n",
              "    <tr>\n",
              "      <th>3</th>\n",
              "      <td>9.2</td>\n",
              "      <td>28.0</td>\n",
              "      <td>0.0</td>\n",
              "      <td>1.4</td>\n",
              "      <td>12.2</td>\n",
              "      <td>24.0</td>\n",
              "      <td>11.0</td>\n",
              "      <td>9.0</td>\n",
              "      <td>45.0</td>\n",
              "      <td>16.0</td>\n",
              "      <td>1017.6</td>\n",
              "      <td>1012.8</td>\n",
              "      <td>7.0</td>\n",
              "      <td>7.0</td>\n",
              "      <td>0</td>\n",
              "      <td>0</td>\n",
              "      <td>0</td>\n",
              "      <td>0</td>\n",
              "      <td>1</td>\n",
              "      <td>0</td>\n",
              "      <td>0</td>\n",
              "      <td>0</td>\n",
              "      <td>0</td>\n",
              "      <td>0</td>\n",
              "      <td>0</td>\n",
              "      <td>0</td>\n",
              "      <td>0</td>\n",
              "      <td>0</td>\n",
              "      <td>0</td>\n",
              "      <td>0</td>\n",
              "      <td>0</td>\n",
              "      <td>0</td>\n",
              "      <td>0</td>\n",
              "      <td>0</td>\n",
              "      <td>0</td>\n",
              "      <td>0</td>\n",
              "      <td>0</td>\n",
              "      <td>0</td>\n",
              "      <td>1</td>\n",
              "      <td>0</td>\n",
              "      <td>0</td>\n",
              "      <td>0</td>\n",
              "      <td>0</td>\n",
              "      <td>0</td>\n",
              "      <td>0</td>\n",
              "      <td>0</td>\n",
              "      <td>0</td>\n",
              "      <td>0</td>\n",
              "      <td>0</td>\n",
              "      <td>0</td>\n",
              "      <td>0</td>\n",
              "      <td>0</td>\n",
              "      <td>0</td>\n",
              "      <td>0</td>\n",
              "      <td>0</td>\n",
              "      <td>0</td>\n",
              "      <td>0</td>\n",
              "      <td>0</td>\n",
              "      <td>0</td>\n",
              "      <td>0</td>\n",
              "      <td>0</td>\n",
              "      <td>12</td>\n",
              "      <td>1</td>\n",
              "    </tr>\n",
              "    <tr>\n",
              "      <th>4</th>\n",
              "      <td>17.5</td>\n",
              "      <td>32.3</td>\n",
              "      <td>1.0</td>\n",
              "      <td>6.6</td>\n",
              "      <td>1.0</td>\n",
              "      <td>41.0</td>\n",
              "      <td>7.0</td>\n",
              "      <td>20.0</td>\n",
              "      <td>82.0</td>\n",
              "      <td>33.0</td>\n",
              "      <td>1010.8</td>\n",
              "      <td>1006.0</td>\n",
              "      <td>7.0</td>\n",
              "      <td>8.0</td>\n",
              "      <td>0</td>\n",
              "      <td>0</td>\n",
              "      <td>0</td>\n",
              "      <td>0</td>\n",
              "      <td>0</td>\n",
              "      <td>0</td>\n",
              "      <td>0</td>\n",
              "      <td>0</td>\n",
              "      <td>0</td>\n",
              "      <td>0</td>\n",
              "      <td>0</td>\n",
              "      <td>0</td>\n",
              "      <td>0</td>\n",
              "      <td>1</td>\n",
              "      <td>0</td>\n",
              "      <td>0</td>\n",
              "      <td>1</td>\n",
              "      <td>0</td>\n",
              "      <td>0</td>\n",
              "      <td>0</td>\n",
              "      <td>0</td>\n",
              "      <td>0</td>\n",
              "      <td>0</td>\n",
              "      <td>0</td>\n",
              "      <td>0</td>\n",
              "      <td>0</td>\n",
              "      <td>0</td>\n",
              "      <td>0</td>\n",
              "      <td>0</td>\n",
              "      <td>0</td>\n",
              "      <td>0</td>\n",
              "      <td>0</td>\n",
              "      <td>0</td>\n",
              "      <td>0</td>\n",
              "      <td>0</td>\n",
              "      <td>0</td>\n",
              "      <td>0</td>\n",
              "      <td>1</td>\n",
              "      <td>0</td>\n",
              "      <td>0</td>\n",
              "      <td>0</td>\n",
              "      <td>0</td>\n",
              "      <td>0</td>\n",
              "      <td>0</td>\n",
              "      <td>0</td>\n",
              "      <td>0</td>\n",
              "      <td>0</td>\n",
              "      <td>12</td>\n",
              "      <td>1</td>\n",
              "    </tr>\n",
              "  </tbody>\n",
              "</table>\n",
              "</div>"
            ],
            "text/plain": [
              "   MinTemp  MaxTemp  Rainfall  Evaporation  Sunshine  WindGustSpeed  \\\n",
              "0     13.4     22.9       0.6          6.2       3.3           44.0   \n",
              "1      7.4     25.1       0.0          0.4       6.1           44.0   \n",
              "2     12.9     25.7       0.0          5.8       9.7           46.0   \n",
              "3      9.2     28.0       0.0          1.4      12.2           24.0   \n",
              "4     17.5     32.3       1.0          6.6       1.0           41.0   \n",
              "\n",
              "   WindSpeed9am  WindSpeed3pm  Humidity9am  Humidity3pm  Pressure9am  \\\n",
              "0          20.0          24.0         71.0         22.0       1007.7   \n",
              "1           4.0          22.0         44.0         25.0       1010.6   \n",
              "2          19.0          26.0         38.0         30.0       1007.6   \n",
              "3          11.0           9.0         45.0         16.0       1017.6   \n",
              "4           7.0          20.0         82.0         33.0       1010.8   \n",
              "\n",
              "   Pressure3pm  Cloud9am  Cloud3pm  RainTomorrow  WindGustDir_ENE  \\\n",
              "0       1007.1       8.0       5.0             0                0   \n",
              "1       1007.8       5.0       1.0             0                0   \n",
              "2       1008.7       1.0       2.0             0                0   \n",
              "3       1012.8       7.0       7.0             0                0   \n",
              "4       1006.0       7.0       8.0             0                0   \n",
              "\n",
              "   WindGustDir_ESE  WindGustDir_N  WindGustDir_NE  WindGustDir_NNE  \\\n",
              "0                0              0               0                0   \n",
              "1                0              0               0                0   \n",
              "2                0              0               0                0   \n",
              "3                0              0               1                0   \n",
              "4                0              0               0                0   \n",
              "\n",
              "   WindGustDir_NNW  WindGustDir_NW  WindGustDir_S  WindGustDir_SE  \\\n",
              "0                0               0              0               0   \n",
              "1                0               0              0               0   \n",
              "2                0               0              0               0   \n",
              "3                0               0              0               0   \n",
              "4                0               0              0               0   \n",
              "\n",
              "   WindGustDir_SSE  WindGustDir_SSW  WindGustDir_SW  WindGustDir_W  \\\n",
              "0                0                0               0              1   \n",
              "1                0                0               0              0   \n",
              "2                0                0               0              0   \n",
              "3                0                0               0              0   \n",
              "4                0                0               0              1   \n",
              "\n",
              "   WindGustDir_WNW  WindGustDir_WSW  WindDir9am_ENE  WindDir9am_ESE  \\\n",
              "0                0                0               0               0   \n",
              "1                1                0               0               0   \n",
              "2                0                1               0               0   \n",
              "3                0                0               0               0   \n",
              "4                0                0               1               0   \n",
              "\n",
              "   WindDir9am_N  WindDir9am_NE  WindDir9am_NNE  WindDir9am_NNW  WindDir9am_NW  \\\n",
              "0             0              0               0               0              0   \n",
              "1             0              0               0               1              0   \n",
              "2             0              0               0               0              0   \n",
              "3             0              0               0               0              0   \n",
              "4             0              0               0               0              0   \n",
              "\n",
              "   WindDir9am_S  WindDir9am_SE  WindDir9am_SSE  WindDir9am_SSW  WindDir9am_SW  \\\n",
              "0             0              0               0               0              0   \n",
              "1             0              0               0               0              0   \n",
              "2             0              0               0               0              0   \n",
              "3             0              1               0               0              0   \n",
              "4             0              0               0               0              0   \n",
              "\n",
              "   WindDir9am_W  WindDir9am_WNW  WindDir9am_WSW  WindDir3pm_ENE  \\\n",
              "0             1               0               0               0   \n",
              "1             0               0               0               0   \n",
              "2             1               0               0               0   \n",
              "3             0               0               0               0   \n",
              "4             0               0               0               0   \n",
              "\n",
              "   WindDir3pm_ESE  WindDir3pm_N  WindDir3pm_NE  WindDir3pm_NNE  \\\n",
              "0               0             0              0               0   \n",
              "1               0             0              0               0   \n",
              "2               0             0              0               0   \n",
              "3               0             0              0               0   \n",
              "4               0             0              0               0   \n",
              "\n",
              "   WindDir3pm_NNW  WindDir3pm_NW  WindDir3pm_S  WindDir3pm_SE  WindDir3pm_SSE  \\\n",
              "0               0              0             0              0               0   \n",
              "1               0              0             0              0               0   \n",
              "2               0              0             0              0               0   \n",
              "3               0              0             0              0               0   \n",
              "4               0              1             0              0               0   \n",
              "\n",
              "   WindDir3pm_SSW  WindDir3pm_SW  WindDir3pm_W  WindDir3pm_WNW  \\\n",
              "0               0              0             0               1   \n",
              "1               0              0             0               0   \n",
              "2               0              0             0               0   \n",
              "3               0              0             0               0   \n",
              "4               0              0             0               0   \n",
              "\n",
              "   WindDir3pm_WSW  RainToday_Yes Month  season  \n",
              "0               0              0    12       1  \n",
              "1               1              0    12       1  \n",
              "2               1              0    12       1  \n",
              "3               0              0    12       1  \n",
              "4               0              0    12       1  "
            ]
          },
          "metadata": {},
          "execution_count": 54
        }
      ]
    },
    {
      "cell_type": "code",
      "metadata": {
        "id": "qBrkK068gzH1"
      },
      "source": [
        ""
      ],
      "execution_count": 54,
      "outputs": []
    },
    {
      "cell_type": "code",
      "metadata": {
        "id": "sTr384b2QwrB"
      },
      "source": [
        "X = data.drop(['RainTomorrow'] , axis=1)\n",
        "y = data['RainTomorrow']"
      ],
      "execution_count": 55,
      "outputs": []
    },
    {
      "cell_type": "code",
      "metadata": {
        "id": "U5XxF5Q-L2Y3"
      },
      "source": [
        "# split data to train and test set\n",
        "X_train, X_test, y_train, y_test = train_test_split(X, y, test_size=0.2)"
      ],
      "execution_count": 56,
      "outputs": []
    },
    {
      "cell_type": "markdown",
      "metadata": {
        "id": "AZ9T26EAiQHU"
      },
      "source": [
        "# Feature Selection"
      ]
    },
    {
      "cell_type": "code",
      "metadata": {
        "id": "6_SPCkvehsKw",
        "colab": {
          "base_uri": "https://localhost:8080/"
        },
        "outputId": "06d54e23-b9ff-4499-db9c-e6e0cb75b14d"
      },
      "source": [
        "\n",
        "# determine the mutual information\n",
        "mutual_info = mutual_info_classif(X_train, y_train)\n",
        "mutual_info = pd.Series(mutual_info)\n",
        "mutual_info.index = X_train.columns\n",
        "print(mutual_info.sort_values(ascending=False))\n"
      ],
      "execution_count": 57,
      "outputs": [
        {
          "output_type": "stream",
          "name": "stdout",
          "text": [
            "Humidity3pm        0.112515\n",
            "Rainfall           0.053943\n",
            "RainToday_Yes      0.043988\n",
            "Humidity9am        0.038243\n",
            "Cloud3pm           0.030841\n",
            "                     ...   \n",
            "WindDir9am_NNE     0.000000\n",
            "WindGustDir_WSW    0.000000\n",
            "WindGustDir_N      0.000000\n",
            "WindGustDir_SSW    0.000000\n",
            "WindGustDir_SSE    0.000000\n",
            "Length: 62, dtype: float64\n"
          ]
        }
      ]
    },
    {
      "cell_type": "code",
      "metadata": {
        "colab": {
          "base_uri": "https://localhost:8080/",
          "height": 968
        },
        "id": "r80i_Fv6zDoe",
        "outputId": "87abf59b-b27e-4d8f-fe86-5d10ed886507"
      },
      "source": [
        "mutual_info = pd.DataFrame(mutual_info, columns=['score']).sort_values(by='score',  ascending=False)\n",
        "mutual_info.tail(n=30)"
      ],
      "execution_count": 58,
      "outputs": [
        {
          "output_type": "execute_result",
          "data": {
            "text/html": [
              "<div>\n",
              "<style scoped>\n",
              "    .dataframe tbody tr th:only-of-type {\n",
              "        vertical-align: middle;\n",
              "    }\n",
              "\n",
              "    .dataframe tbody tr th {\n",
              "        vertical-align: top;\n",
              "    }\n",
              "\n",
              "    .dataframe thead th {\n",
              "        text-align: right;\n",
              "    }\n",
              "</style>\n",
              "<table border=\"1\" class=\"dataframe\">\n",
              "  <thead>\n",
              "    <tr style=\"text-align: right;\">\n",
              "      <th></th>\n",
              "      <th>score</th>\n",
              "    </tr>\n",
              "  </thead>\n",
              "  <tbody>\n",
              "    <tr>\n",
              "      <th>WindGustDir_ESE</th>\n",
              "      <td>0.000764</td>\n",
              "    </tr>\n",
              "    <tr>\n",
              "      <th>WindDir9am_SW</th>\n",
              "      <td>0.000749</td>\n",
              "    </tr>\n",
              "    <tr>\n",
              "      <th>WindGustDir_WNW</th>\n",
              "      <td>0.000669</td>\n",
              "    </tr>\n",
              "    <tr>\n",
              "      <th>WindDir9am_SSE</th>\n",
              "      <td>0.000596</td>\n",
              "    </tr>\n",
              "    <tr>\n",
              "      <th>WindDir3pm_SE</th>\n",
              "      <td>0.000537</td>\n",
              "    </tr>\n",
              "    <tr>\n",
              "      <th>WindGustDir_NE</th>\n",
              "      <td>0.000407</td>\n",
              "    </tr>\n",
              "    <tr>\n",
              "      <th>WindDir3pm_S</th>\n",
              "      <td>0.000323</td>\n",
              "    </tr>\n",
              "    <tr>\n",
              "      <th>WindDir3pm_ESE</th>\n",
              "      <td>0.000204</td>\n",
              "    </tr>\n",
              "    <tr>\n",
              "      <th>WindDir3pm_NE</th>\n",
              "      <td>0.000063</td>\n",
              "    </tr>\n",
              "    <tr>\n",
              "      <th>WindDir3pm_SSE</th>\n",
              "      <td>0.000003</td>\n",
              "    </tr>\n",
              "    <tr>\n",
              "      <th>WindGustDir_NNE</th>\n",
              "      <td>0.000002</td>\n",
              "    </tr>\n",
              "    <tr>\n",
              "      <th>WindDir3pm_SSW</th>\n",
              "      <td>0.000000</td>\n",
              "    </tr>\n",
              "    <tr>\n",
              "      <th>WindDir3pm_W</th>\n",
              "      <td>0.000000</td>\n",
              "    </tr>\n",
              "    <tr>\n",
              "      <th>WindDir3pm_WNW</th>\n",
              "      <td>0.000000</td>\n",
              "    </tr>\n",
              "    <tr>\n",
              "      <th>WindDir3pm_WSW</th>\n",
              "      <td>0.000000</td>\n",
              "    </tr>\n",
              "    <tr>\n",
              "      <th>WindGustDir_N</th>\n",
              "      <td>0.000000</td>\n",
              "    </tr>\n",
              "    <tr>\n",
              "      <th>WindDir3pm_SW</th>\n",
              "      <td>0.000000</td>\n",
              "    </tr>\n",
              "    <tr>\n",
              "      <th>WindGustDir_SSW</th>\n",
              "      <td>0.000000</td>\n",
              "    </tr>\n",
              "    <tr>\n",
              "      <th>WindDir3pm_NNE</th>\n",
              "      <td>0.000000</td>\n",
              "    </tr>\n",
              "    <tr>\n",
              "      <th>WindDir3pm_ENE</th>\n",
              "      <td>0.000000</td>\n",
              "    </tr>\n",
              "    <tr>\n",
              "      <th>WindDir9am_W</th>\n",
              "      <td>0.000000</td>\n",
              "    </tr>\n",
              "    <tr>\n",
              "      <th>WindDir9am_SSW</th>\n",
              "      <td>0.000000</td>\n",
              "    </tr>\n",
              "    <tr>\n",
              "      <th>WindDir9am_SE</th>\n",
              "      <td>0.000000</td>\n",
              "    </tr>\n",
              "    <tr>\n",
              "      <th>WindDir9am_S</th>\n",
              "      <td>0.000000</td>\n",
              "    </tr>\n",
              "    <tr>\n",
              "      <th>WindDir9am_NNE</th>\n",
              "      <td>0.000000</td>\n",
              "    </tr>\n",
              "    <tr>\n",
              "      <th>WindGustDir_NNW</th>\n",
              "      <td>0.000000</td>\n",
              "    </tr>\n",
              "    <tr>\n",
              "      <th>WindGustDir_NW</th>\n",
              "      <td>0.000000</td>\n",
              "    </tr>\n",
              "    <tr>\n",
              "      <th>WindGustDir_WSW</th>\n",
              "      <td>0.000000</td>\n",
              "    </tr>\n",
              "    <tr>\n",
              "      <th>WindGustDir_SSE</th>\n",
              "      <td>0.000000</td>\n",
              "    </tr>\n",
              "    <tr>\n",
              "      <th>WindDir9am_WSW</th>\n",
              "      <td>0.000000</td>\n",
              "    </tr>\n",
              "  </tbody>\n",
              "</table>\n",
              "</div>"
            ],
            "text/plain": [
              "                    score\n",
              "WindGustDir_ESE  0.000764\n",
              "WindDir9am_SW    0.000749\n",
              "WindGustDir_WNW  0.000669\n",
              "WindDir9am_SSE   0.000596\n",
              "WindDir3pm_SE    0.000537\n",
              "WindGustDir_NE   0.000407\n",
              "WindDir3pm_S     0.000323\n",
              "WindDir3pm_ESE   0.000204\n",
              "WindDir3pm_NE    0.000063\n",
              "WindDir3pm_SSE   0.000003\n",
              "WindGustDir_NNE  0.000002\n",
              "WindDir3pm_SSW   0.000000\n",
              "WindDir3pm_W     0.000000\n",
              "WindDir3pm_WNW   0.000000\n",
              "WindDir3pm_WSW   0.000000\n",
              "WindGustDir_N    0.000000\n",
              "WindDir3pm_SW    0.000000\n",
              "WindGustDir_SSW  0.000000\n",
              "WindDir3pm_NNE   0.000000\n",
              "WindDir3pm_ENE   0.000000\n",
              "WindDir9am_W     0.000000\n",
              "WindDir9am_SSW   0.000000\n",
              "WindDir9am_SE    0.000000\n",
              "WindDir9am_S     0.000000\n",
              "WindDir9am_NNE   0.000000\n",
              "WindGustDir_NNW  0.000000\n",
              "WindGustDir_NW   0.000000\n",
              "WindGustDir_WSW  0.000000\n",
              "WindGustDir_SSE  0.000000\n",
              "WindDir9am_WSW   0.000000"
            ]
          },
          "metadata": {},
          "execution_count": 58
        }
      ]
    },
    {
      "cell_type": "code",
      "metadata": {
        "colab": {
          "base_uri": "https://localhost:8080/"
        },
        "id": "WiFoWKbSh3rz",
        "outputId": "7c0df0c5-e5a8-490e-aeab-d82d611d6438"
      },
      "source": [
        "#No we Will select the  top 20 important features\n",
        "sel_cols = SelectKBest(mutual_info_classif, k=41)\n",
        "sel_cols.fit(X_train, y_train)\n"
      ],
      "execution_count": 59,
      "outputs": [
        {
          "output_type": "execute_result",
          "data": {
            "text/plain": [
              "SelectKBest(k=41, score_func=<function mutual_info_classif at 0x7fc0b707c7a0>)"
            ]
          },
          "metadata": {},
          "execution_count": 59
        }
      ]
    },
    {
      "cell_type": "code",
      "metadata": {
        "id": "FGWMktQLfa9W"
      },
      "source": [
        "X_train = X_train[X_train.columns[sel_cols.get_support()]]\n",
        "X_test = X_test[X_test.columns[sel_cols.get_support()]]"
      ],
      "execution_count": null,
      "outputs": []
    },
    {
      "cell_type": "markdown",
      "metadata": {
        "id": "yFkXKA3iOwsQ"
      },
      "source": [
        "# Model and  prediction"
      ]
    },
    {
      "cell_type": "code",
      "metadata": {
        "id": "nUYm59XVK0zN"
      },
      "source": [
        "model_params = {\n",
        "   \n",
        "    'random_forest': {\n",
        "        'model': RandomForestClassifier(),\n",
        "        'params' : {\n",
        "            'n_estimators'       : np.arange(100, 500,100),   \n",
        "            'max_depth'          : np.arange(5, 20,5),\n",
        "            'min_samples_split'  : [2, 5, 10,14],\n",
        "            'min_samples_leaf'   : [1, 2, 4,6,8],\n",
        "            'criterion'          : ['gini', 'entropy']\n",
        "\n",
        "        }\n",
        "    },\n",
        "    'logistic_regression' : {\n",
        "        'model': LogisticRegression(multi_class='auto'),\n",
        "        'params': {\n",
        "            'C'             : range(2,10,2),\n",
        "            'penalty'       : ['l1','l2'],\n",
        "            'solver'        : ['newton-cg', 'lbfgs', 'liblinear'],\n",
        "        }\n",
        "    }  \n",
        "}"
      ],
      "execution_count": 66,
      "outputs": []
    },
    {
      "cell_type": "code",
      "metadata": {
        "colab": {
          "base_uri": "https://localhost:8080/"
        },
        "id": "Ekhr0BilLcOH",
        "outputId": "f8cdbcc2-e18e-4f38-d234-68dcf9659421"
      },
      "source": [
        "scores = []\n",
        "\n",
        "for model_name, mp in model_params.items():\n",
        "    clf =  RandomizedSearchCV(mp['model'], mp['params'], n_iter=100,verbose=2, random_state=100,n_jobs=-1,cv=5, return_train_score=False)\n",
        "    clf.fit(X_train, y_train)\n",
        "    scores.append({\n",
        "        'model': model_name,\n",
        "        'best_score': clf.best_score_,\n",
        "        'best_params': clf.best_params_\n",
        "    })\n",
        "    \n",
        "df = pd.DataFrame(scores,columns=['model','best_score','best_params'])\n"
      ],
      "execution_count": 67,
      "outputs": [
        {
          "metadata": {
            "tags": null
          },
          "name": "stdout",
          "output_type": "stream",
          "text": [
            "Fitting 5 folds for each of 100 candidates, totalling 500 fits\n"
          ]
        },
        {
          "metadata": {
            "tags": null
          },
          "name": "stderr",
          "output_type": "stream",
          "text": [
            "[Parallel(n_jobs=-1)]: Using backend LokyBackend with 2 concurrent workers.\n",
            "[Parallel(n_jobs=-1)]: Done  37 tasks      | elapsed: 14.5min\n",
            "[Parallel(n_jobs=-1)]: Done 158 tasks      | elapsed: 78.0min\n",
            "[Parallel(n_jobs=-1)]: Done 361 tasks      | elapsed: 160.1min\n",
            "[Parallel(n_jobs=-1)]: Done 500 out of 500 | elapsed: 210.5min finished\n"
          ]
        },
        {
          "metadata": {
            "tags": null
          },
          "name": "stdout",
          "output_type": "stream",
          "text": [
            "Fitting 5 folds for each of 24 candidates, totalling 120 fits\n"
          ]
        },
        {
          "output_type": "stream",
          "name": "stderr",
          "text": [
            "[Parallel(n_jobs=-1)]: Using backend LokyBackend with 2 concurrent workers.\n",
            "[Parallel(n_jobs=-1)]: Done  37 tasks      | elapsed: 16.9min\n",
            "[Parallel(n_jobs=-1)]: Done 120 out of 120 | elapsed: 73.9min finished\n"
          ]
        }
      ]
    },
    {
      "cell_type": "code",
      "metadata": {
        "colab": {
          "base_uri": "https://localhost:8080/",
          "height": 110
        },
        "id": "gCrmPzPoimaM",
        "outputId": "5fc2fbd9-aa3b-411a-9c59-09e83cf29645"
      },
      "source": [
        "df"
      ],
      "execution_count": 68,
      "outputs": [
        {
          "output_type": "execute_result",
          "data": {
            "text/html": [
              "<div>\n",
              "<style scoped>\n",
              "    .dataframe tbody tr th:only-of-type {\n",
              "        vertical-align: middle;\n",
              "    }\n",
              "\n",
              "    .dataframe tbody tr th {\n",
              "        vertical-align: top;\n",
              "    }\n",
              "\n",
              "    .dataframe thead th {\n",
              "        text-align: right;\n",
              "    }\n",
              "</style>\n",
              "<table border=\"1\" class=\"dataframe\">\n",
              "  <thead>\n",
              "    <tr style=\"text-align: right;\">\n",
              "      <th></th>\n",
              "      <th>model</th>\n",
              "      <th>best_score</th>\n",
              "      <th>best_params</th>\n",
              "    </tr>\n",
              "  </thead>\n",
              "  <tbody>\n",
              "    <tr>\n",
              "      <th>0</th>\n",
              "      <td>random_forest</td>\n",
              "      <td>0.848506</td>\n",
              "      <td>{'n_estimators': 300, 'min_samples_split': 5, 'min_samples_leaf': 1, 'max_depth': 15, 'criterion': 'gini'}</td>\n",
              "    </tr>\n",
              "    <tr>\n",
              "      <th>1</th>\n",
              "      <td>logistic_regression</td>\n",
              "      <td>0.841509</td>\n",
              "      <td>{'solver': 'liblinear', 'penalty': 'l1', 'C': 4}</td>\n",
              "    </tr>\n",
              "  </tbody>\n",
              "</table>\n",
              "</div>"
            ],
            "text/plain": [
              "                 model  best_score  \\\n",
              "0        random_forest    0.848506   \n",
              "1  logistic_regression    0.841509   \n",
              "\n",
              "                                                                                                  best_params  \n",
              "0  {'n_estimators': 300, 'min_samples_split': 5, 'min_samples_leaf': 1, 'max_depth': 15, 'criterion': 'gini'}  \n",
              "1                                                            {'solver': 'liblinear', 'penalty': 'l1', 'C': 4}  "
            ]
          },
          "metadata": {},
          "execution_count": 68
        }
      ]
    },
    {
      "cell_type": "markdown",
      "metadata": {
        "id": "vwN1zqRzLveX"
      },
      "source": [
        "**Models:**\n",
        "\n",
        "1. Random Forset\n",
        "\n",
        "2. Random Forset with RandomOverSampler\n",
        "\n",
        "3. Random Forset with RandomUnderSampler\n",
        "\n",
        "4. Random Forset with SMOOTH"
      ]
    },
    {
      "cell_type": "code",
      "metadata": {
        "colab": {
          "base_uri": "https://localhost:8080/"
        },
        "id": "vGUUpSwzLwkB",
        "outputId": "8ba5cebb-6175-4081-9d60-d7c3c2abba43"
      },
      "source": [
        "print('Random Forest')\n",
        "print('\\n')\n",
        "\n",
        "\n",
        "rf = RandomForestClassifier(**scores[0]['best_params'])\n",
        "rf.fit(X_train, y_train)\n",
        "y_predicted = rf.predict(X_test)\n",
        "\n",
        "print('Accuracy:',accuracy_score(y_test,y_predicted))\n",
        "print('F1 Score:', f1_score(y_test, y_predicted, average='weighted'))\n",
        "print('ROC-AUC Score:', roc_auc_score(y_test,y_predicted))\n",
        "print('\\n')\n",
        "print('Classifcation report:\\n', classification_report(y_test, y_predicted))\n",
        "print('Confusion matrix:\\n', confusion_matrix(y_true = y_test, y_pred=y_predicted))\n",
        "\n",
        "print('-------------------------------------------')\n",
        "print('\\n')\n",
        "print('Random Forest with ROS')\n",
        "print('\\n')\n",
        "\n",
        "\n",
        "\n",
        "ros = RandomOverSampler(ratio=0.7)\n",
        "rf = RandomForestClassifier()\n",
        "X_train_ros, y_train_ros = ros.fit_sample(X_train,y_train)\n",
        "rf.fit(X_train_ros, y_train_ros)\n",
        "y_predicted = rf.predict(X_test)\n",
        "\n",
        "counter = Counter(y_train_ros)\n",
        "print(counter)\n",
        "\n",
        "print('Accuracy:',accuracy_score(y_test,y_predicted))\n",
        "print('F1 Score:', f1_score(y_test, y_predicted, average='weighted'))\n",
        "print('ROC-AUC Score:', roc_auc_score(y_test,y_predicted))\n",
        "print('\\n')\n",
        "print('Classifcation report:\\n', classification_report(y_test, y_predicted))\n",
        "print('Confusion matrix:\\n', confusion_matrix(y_true = y_test, y_pred=y_predicted))\n",
        "print('-------------------------------------')\n",
        "\n",
        "print('\\n')\n",
        "print('Random Forest with RUS')\n",
        "print('\\n')\n",
        "\n",
        "rf = RandomForestClassifier()\n",
        "rus = RandomUnderSampler()\n",
        "\n",
        "X_train_rus, y_train_rus = rus.fit_sample(X_train,y_train)\n",
        "rf.fit(X_train_rus, y_train_rus)\n",
        "y_predicted = rf.predict(X_test)\n",
        "\n",
        "counter = Counter(y_train_rus)\n",
        "print(counter)\n",
        "\n",
        "print('Accuracy:',accuracy_score(y_test,y_predicted))\n",
        "print('F1 Score:', f1_score(y_test, y_predicted, average='weighted'))\n",
        "print('ROC-AUC Score:', roc_auc_score(y_test,y_predicted))\n",
        "print('\\n')\n",
        "print('Classifcation report:\\n', classification_report(y_test, y_predicted))\n",
        "print('Confusion matrix:\\n', confusion_matrix(y_true = y_test, y_pred=y_predicted))\n",
        "print('--------------------')\n",
        "\n",
        "print('\\n')\n",
        "print('Random Forest with SMOTH')\n",
        "print('\\n')\n",
        "\n",
        "rf = RandomForestClassifier()\n",
        "resampling = BorderlineSMOTE(kind='borderline-2')\n",
        "pipeline = Pipeline([('SMOTE', resampling), ('Classifier', rf)])\n",
        "\n",
        "pipeline.fit(X_train, y_train) \n",
        "y_predicted = pipeline.predict(X_test)\n",
        "\n",
        "print('Accuracy:',accuracy_score(y_test,y_predicted))\n",
        "print('F1 Score:', f1_score(y_test, y_predicted, average='weighted'))\n",
        "print('ROC-AUC Score:', roc_auc_score(y_test,y_predicted))\n",
        "print('\\n')\n",
        "print('Classifcation report:\\n', classification_report(y_test, y_predicted))\n",
        "print('Confusion matrix:\\n', confusion_matrix(y_true = y_test, y_pred=y_predicted))\n",
        "\n"
      ],
      "execution_count": 80,
      "outputs": [
        {
          "output_type": "stream",
          "name": "stdout",
          "text": [
            "Random Forest\n",
            "\n",
            "\n",
            "Accuracy: 0.8462674496290306\n",
            "F1 Score: 0.831301207160283\n",
            "ROC-AUC Score: 0.7083344412948035\n",
            "\n",
            "\n",
            "Classifcation report:\n",
            "               precision    recall  f1-score   support\n",
            "\n",
            "           0       0.86      0.96      0.91     22055\n",
            "           1       0.76      0.46      0.57      6384\n",
            "\n",
            "    accuracy                           0.85     28439\n",
            "   macro avg       0.81      0.71      0.74     28439\n",
            "weighted avg       0.84      0.85      0.83     28439\n",
            "\n",
            "Confusion matrix:\n",
            " [[21143   912]\n",
            " [ 3460  2924]]\n",
            "-------------------------------------------\n",
            "\n",
            "\n",
            "Random Forest with ROS\n",
            "\n",
            "\n",
            "Counter({0: 88261, 1: 61782})\n",
            "Accuracy: 0.8485882063363691\n",
            "F1 Score: 0.8409639187610652\n",
            "ROC-AUC Score: 0.7406609146420802\n",
            "\n",
            "\n",
            "Classifcation report:\n",
            "               precision    recall  f1-score   support\n",
            "\n",
            "           0       0.88      0.94      0.91     22055\n",
            "           1       0.71      0.54      0.62      6384\n",
            "\n",
            "    accuracy                           0.85     28439\n",
            "   macro avg       0.79      0.74      0.76     28439\n",
            "weighted avg       0.84      0.85      0.84     28439\n",
            "\n",
            "Confusion matrix:\n",
            " [[20655  1400]\n",
            " [ 2906  3478]]\n",
            "-------------------------------------\n",
            "\n",
            "\n",
            "Random Forest with RUS\n",
            "\n",
            "\n",
            "Counter({0: 25493, 1: 25493})\n",
            "Accuracy: 0.7924680895952741\n",
            "F1 Score: 0.8046119110307463\n",
            "ROC-AUC Score: 0.7851714414124179\n",
            "\n",
            "\n",
            "Classifcation report:\n",
            "               precision    recall  f1-score   support\n",
            "\n",
            "           0       0.92      0.80      0.86     22055\n",
            "           1       0.53      0.77      0.63      6384\n",
            "\n",
            "    accuracy                           0.79     28439\n",
            "   macro avg       0.72      0.79      0.74     28439\n",
            "weighted avg       0.83      0.79      0.80     28439\n",
            "\n",
            "Confusion matrix:\n",
            " [[17609  4446]\n",
            " [ 1456  4928]]\n",
            "--------------------\n",
            "\n",
            "\n",
            "Random Forest with SMOTH\n",
            "\n",
            "\n",
            "Accuracy: 0.8465839164527585\n",
            "F1 Score: 0.8383850098532141\n",
            "ROC-AUC Score: 0.7356401268701112\n",
            "\n",
            "\n",
            "Classifcation report:\n",
            "               precision    recall  f1-score   support\n",
            "\n",
            "           0       0.87      0.94      0.90     22055\n",
            "           1       0.71      0.53      0.61      6384\n",
            "\n",
            "    accuracy                           0.85     28439\n",
            "   macro avg       0.79      0.74      0.76     28439\n",
            "weighted avg       0.84      0.85      0.84     28439\n",
            "\n",
            "Confusion matrix:\n",
            " [[20665  1390]\n",
            " [ 2973  3411]]\n"
          ]
        }
      ]
    },
    {
      "cell_type": "markdown",
      "metadata": {
        "id": "-0XjALevL2OZ"
      },
      "source": [
        "**Models:**\n",
        "\n",
        "1. Logistic Regression\n",
        "\n",
        "2. Logistic Regression with RandomOverSampler\n",
        "\n",
        "3. Logistic Regression with RandomUnderSampler\n",
        "\n",
        "4. Logistic Regression with SMOOTH"
      ]
    },
    {
      "cell_type": "code",
      "metadata": {
        "colab": {
          "base_uri": "https://localhost:8080/"
        },
        "id": "oNfK4ZscL23-",
        "outputId": "a361f8bf-1fd9-46fa-e1ed-d0c1b777b7ba"
      },
      "source": [
        "print('Logistic Regression')\n",
        "print('\\n')\n",
        "\n",
        "#StandardScaler\n",
        "scaler=StandardScaler()\n",
        "### fit vs fit_transform\n",
        "X_train_scaled=scaler.fit_transform(X_train)\n",
        "X_test_scaled=scaler.fit_transform(X_test)\n",
        "\n",
        "logr = LogisticRegression( **scores[1]['best_params'])\n",
        "logr.fit(X_train_scaled, y_train)\n",
        "y_predicted = logr.predict(X_test_scaled)\n",
        "\n",
        "print('Accuracy:',accuracy_score(y_test,y_predicted))\n",
        "print('F1 Score:', f1_score(y_test, y_predicted, average='weighted'))\n",
        "print('ROC-AUC Score:', roc_auc_score(y_test,y_predicted))\n",
        "print('\\n')\n",
        "print('Classifcation report:\\n', classification_report(y_test, y_predicted))\n",
        "print('Confusion matrix:\\n', confusion_matrix(y_true = y_test, y_pred=y_predicted))\n",
        "\n",
        "print('-------------------------------------------')\n",
        "print('\\n')\n",
        "print('Logistic Regression with ROS')\n",
        "print('\\n')\n",
        "\n",
        "\n",
        "logr = LogisticRegression()\n",
        "ros = RandomOverSampler(ratio=0.7)\n",
        "\n",
        "X_train_ros, y_train_ros = ros.fit_sample(X_train_scaled,y_train)\n",
        "logr.fit(X_train_ros, y_train_ros)\n",
        "y_predicted = logr.predict(X_test_scaled)\n",
        "\n",
        "counter = Counter(y_train_ros)\n",
        "print(counter)\n",
        "\n",
        "print('Accuracy:',accuracy_score(y_test,y_predicted))\n",
        "print('F1 Score:', f1_score(y_test, y_predicted, average='weighted'))\n",
        "print('ROC-AUC Score:', roc_auc_score(y_test,y_predicted))\n",
        "print('\\n')\n",
        "print('Classifcation report:\\n', classification_report(y_test, y_predicted))\n",
        "print('Confusion matrix:\\n', confusion_matrix(y_true = y_test, y_pred=y_predicted))\n",
        "print('--------------------------------------------------')\n",
        "\n",
        "print('\\n')\n",
        "print('Logistic Regression with RUS')\n",
        "print('\\n')\n",
        "\n",
        "logr = LogisticRegression()\n",
        "rus = RandomUnderSampler()\n",
        "\n",
        "X_train_rus, y_train_rus = rus.fit_sample(X_train_scaled,y_train)\n",
        "logr.fit(X_train_rus, y_train_rus)\n",
        "y_predicted = logr.predict(X_test_scaled)\n",
        "\n",
        "counter = Counter(y_train_rus)\n",
        "print(counter)\n",
        "\n",
        "print('Accuracy:',accuracy_score(y_test,y_predicted))\n",
        "print('F1 Score:', f1_score(y_test, y_predicted, average='weighted'))\n",
        "print('ROC-AUC Score:', roc_auc_score(y_test,y_predicted))\n",
        "print('\\n')\n",
        "print('Classifcation report:\\n', classification_report(y_test, y_predicted))\n",
        "print('Confusion matrix:\\n', confusion_matrix(y_true = y_test, y_pred=y_predicted))\n",
        "print('--------------------')\n",
        "\n",
        "print('\\n')\n",
        "print('Logistic Regression with SMOTH')\n",
        "print('\\n')\n",
        "\n",
        "logr = LogisticRegression()\n",
        "resampling = BorderlineSMOTE(kind='borderline-2')\n",
        "pipeline = Pipeline([('SMOTE', resampling), ('Classifier', logr)])\n",
        "\n",
        "pipeline.fit(X_train_scaled, y_train) \n",
        "y_predicted = pipeline.predict(X_test_scaled)\n",
        "\n",
        "print('Accuracy:',accuracy_score(y_test,y_predicted))\n",
        "print('F1 Score:', f1_score(y_test, y_predicted, average='weighted'))\n",
        "print('ROC-AUC Score:', roc_auc_score(y_test,y_predicted))\n",
        "print('\\n')\n",
        "print('Classifcation report:\\n', classification_report(y_test, y_predicted))\n",
        "print('Confusion matrix:\\n', confusion_matrix(y_true = y_test, y_pred=y_predicted))"
      ],
      "execution_count": 81,
      "outputs": [
        {
          "output_type": "stream",
          "name": "stdout",
          "text": [
            "Logistic Regression\n",
            "\n",
            "\n",
            "Accuracy: 0.8385667569183164\n",
            "F1 Score: 0.826705712701963\n",
            "ROC-AUC Score: 0.7111049593207684\n",
            "\n",
            "\n",
            "Classifcation report:\n",
            "               precision    recall  f1-score   support\n",
            "\n",
            "           0       0.86      0.94      0.90     22055\n",
            "           1       0.71      0.48      0.57      6384\n",
            "\n",
            "    accuracy                           0.84     28439\n",
            "   macro avg       0.78      0.71      0.74     28439\n",
            "weighted avg       0.83      0.84      0.83     28439\n",
            "\n",
            "Confusion matrix:\n",
            " [[20785  1270]\n",
            " [ 3321  3063]]\n",
            "-------------------------------------------\n",
            "\n",
            "\n",
            "Random Forest with ROS\n",
            "\n",
            "\n",
            "Counter({0: 88261, 1: 61782})\n",
            "Accuracy: 0.8102957206652835\n",
            "F1 Score: 0.8164579634170028\n",
            "ROC-AUC Score: 0.7657795695029912\n",
            "\n",
            "\n",
            "Classifcation report:\n",
            "               precision    recall  f1-score   support\n",
            "\n",
            "           0       0.90      0.85      0.87     22055\n",
            "           1       0.56      0.68      0.62      6384\n",
            "\n",
            "    accuracy                           0.81     28439\n",
            "   macro avg       0.73      0.77      0.75     28439\n",
            "weighted avg       0.83      0.81      0.82     28439\n",
            "\n",
            "Confusion matrix:\n",
            " [[18671  3384]\n",
            " [ 2011  4373]]\n",
            "--------------------------------------------------\n",
            "\n",
            "\n",
            "Random Forest with RUS\n",
            "\n",
            "\n",
            "Counter({0: 25493, 1: 25493})\n",
            "Accuracy: 0.7802313724111256\n",
            "F1 Score: 0.793786355098958\n",
            "ROC-AUC Score: 0.7748334648682463\n",
            "\n",
            "\n",
            "Classifcation report:\n",
            "               precision    recall  f1-score   support\n",
            "\n",
            "           0       0.92      0.78      0.85     22055\n",
            "           1       0.51      0.77      0.61      6384\n",
            "\n",
            "    accuracy                           0.78     28439\n",
            "   macro avg       0.71      0.77      0.73     28439\n",
            "weighted avg       0.83      0.78      0.79     28439\n",
            "\n",
            "Confusion matrix:\n",
            " [[17305  4750]\n",
            " [ 1500  4884]]\n",
            "--------------------\n",
            "\n",
            "\n",
            "Random Forest with SMOTH\n",
            "\n",
            "\n",
            "Accuracy: 0.7536481592179753\n",
            "F1 Score: 0.7717027586103312\n",
            "ROC-AUC Score: 0.7706609920573368\n",
            "\n",
            "\n",
            "Classifcation report:\n",
            "               precision    recall  f1-score   support\n",
            "\n",
            "           0       0.93      0.74      0.82     22055\n",
            "           1       0.47      0.80      0.59      6384\n",
            "\n",
            "    accuracy                           0.75     28439\n",
            "   macro avg       0.70      0.77      0.71     28439\n",
            "weighted avg       0.83      0.75      0.77     28439\n",
            "\n",
            "Confusion matrix:\n",
            " [[16316  5739]\n",
            " [ 1267  5117]]\n"
          ]
        }
      ]
    }
  ]
}
